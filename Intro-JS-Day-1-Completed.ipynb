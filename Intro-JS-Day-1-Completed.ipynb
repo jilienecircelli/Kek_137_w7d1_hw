{
 "cells": [
  {
   "cell_type": "markdown",
   "id": "a1288e6a",
   "metadata": {},
   "source": [
    "# Index for Intro To JavaScript"
   ]
  },
  {
   "cell_type": "markdown",
   "id": "f5694faf",
   "metadata": {},
   "source": [
    "[Intro To JS](#introjs)<br>\n",
    "&emsp;[var keyword](#var)<br>\n",
    "&emsp; [Strings](#strings)<br>\n",
    "&emsp;&emsp;[Exercise #1](#ice1)<br>\n",
    "&emsp;&emsp;[Template Strings](#templit)<br>\n",
    "&emsp;&emsp;[Exercise #2](#ice2)<br>\n",
    "&emsp; [typeof Operator](#typeof)<br>\n",
    "&emsp; [Number Type](#numerics)<br>\n",
    "&emsp;&emsp; [Math Operations](#math)<br>\n",
    "&emsp;&emsp; [Type Conversion](#typeconver)<br>\n",
    "&emsp;[Booleans](#bools)<br>\n",
    "&emsp;[Null and Undefined](#nullundef)<br>\n",
    "&emsp; [Let and Const](#letconst)<br>\n",
    "&emsp; [Arrays](#arrays)<br>\n",
    "&emsp;&emsp;[Rest Operator](#rest)<br>\n",
    "&emsp;&emsp;[forEach](#foreach)<br>\n",
    "&emsp;&emsp;[filter](#filter)<br>\n",
    "&emsp;&emsp;[map](#map)<br>\n",
    "&emsp;&emsp;[reduce](#reduce)<br>\n",
    "&emsp;&emsp;[Exercise #3](#ice3)<br>\n",
    "&emsp;[Functions](#functions)<br>\n",
    "&emsp;&emsp;[Regular Functions](#regfunc)<br>\n",
    "&emsp;&emsp;&emsp;[Exercise #4](#ice4)<br>\n",
    "&emsp;&emsp;&emsp;[Arrow Functions](#arrowfunc)<br>\n",
    "&emsp;&emsp;&emsp;[Exercise #5](#ice5)<br>\n",
    "&emsp;&emsp;&emsp;[Exercise #6](#ice6)<br>\n",
    "&emsp;&emsp;[Spread Operator](#spread)<br>\n",
    "&emsp;[Flow Control](#flow)<br>\n",
    "&emsp;&emsp;[if Statement](#if)<br>\n",
    "&emsp;&emsp;&emsp;[Exercise #7](#ice7)<br>\n",
    "&emsp;&emsp;&emsp;[Ternary Operator](#ternary)<br>\n",
    "&emsp;&emsp;[for Loop](#loop)<br>\n",
    "&emsp;&emsp;&emsp;[Exercise #8](#ice8)<br>\n",
    "&emsp;&emsp; [for of Loop](#forof)<br>\n",
    "&emsp;&emsp; [While](#while)<br>\n",
    "&emsp;&emsp; [Break and Continue](#bandc)<br>\n",
    "&emsp; [Application State](#state)<br>\n",
    "&emsp; [Homework](#hw)"
   ]
  },
  {
   "cell_type": "markdown",
   "id": "899d2332",
   "metadata": {},
   "source": [
    "# Intro To JavaScript\n",
    "<a id=\"introjs\"></a>"
   ]
  },
  {
   "cell_type": "markdown",
   "id": "1fa92879",
   "metadata": {},
   "source": [
    "In 1995 Netscape Navigator (the first popular GUIed web browser) introduced JavaScript to have a programmatic language that worked within the web browser (typical uses for most other languages like Perl, Python, Java, etc., work on the server hosting the website, not the browser running on the client's computer). This led to colossal innovation and, eventually, widespread adoption of the JavaScript language in all browsers. Unfortunately, this also meant that each browser could implement JavaScript in its own way. This issue was also seen in the early days of CSS. To combat this issue and allow browsers to respond in the same to JavaScript, a series of standards was created called ECMAScript. While ECMAScript has many different releases and versions, the two significant releases we talk about are ES5 and ES6, as the ES5 and ES6 releases added tons of new capabilities. Both versions have slightly different ways of handling things.\n",
    "\n",
    "We have some good news! JavaScript was created in 10 days, so we can surely learn it in less!\n",
    "JavaScript became popular because using it within the webpage allowed you to send the user a copy of your webpage. Then, using API calls or conditional rendering, you could change and update a portion of the page without updating the entire page or even without making another request back to the website server.\n",
    "\n",
    "Like Python, JavaScript is dynamically typed, meaning datatypes are not declared. Instead, the language assumes the value using Duck Typing (if it walks, talks, and acts like a duck, it must be a duck). Dynamically typed languages are easier to write but harder to maintain. Instead of getting errors at compile time (like while working in VS Code), you get errors at the run time (like when someone is actively using your application). Next Week we will learn how to use TypeScript to enable Static typing in JavaScript.\n",
    "\n",
    "<strong>Note:</strong> Java and JavaScript are completely unrelated. The reason JavaScript has its name is marketing. JavaScript was originally called Mocha, but in 1995 Java was all the rage, and Netscape decided to capitalize on its popularity by changing the name Mocha to JavaScript."
   ]
  },
  {
   "cell_type": "markdown",
   "id": "536ca042",
   "metadata": {},
   "source": [
    "### Comments\n",
    "<a id=\"comments\"></a>\n",
    "To write comments in JS we can use // at the beginning of a line or in the middle of a line\n",
    "\n",
    "To make a multiline comment we use /* comment */"
   ]
  },
  {
   "cell_type": "code",
   "execution_count": null,
   "id": "e9fcd212",
   "metadata": {},
   "outputs": [
    {
     "name": "stdout",
     "output_type": "stream",
     "text": [
      "hello\n"
     ]
    }
   ],
   "source": [
    "// I am comment\n",
    "\n",
    "console.log('hello') // this prints hello and to the right of the slashes is a comment\n",
    "\n",
    "/*\n",
    "I am a comment\n",
    "that is on many\n",
    "different lines\n",
    "and is great for\n",
    "documentation!\n",
    "*/"
   ]
  },
  {
   "cell_type": "markdown",
   "id": "b9833932",
   "metadata": {},
   "source": [
    "### Var Keyword\n",
    "<a id=\"var\"></a>\n",
    "\n",
    "In JavaScript, we can declare a variable without giving in a value.  \n",
    "\n",
    "Variables should be declared using a keyword such as var, let, or const (more on let and const later)\n",
    "\n",
    "<strong>Note:</strong> When creating variables in JS, we don't use snake_case like in Python; we use camelCase in JS.\n",
    "\n",
    "camelCase is where the first letter of the first word is lowercase, and any other comments will start with a Capital Letter, so in Python and snake case, we would write this_is_my_var, and in JS, it would be thisIsMyVar\n"
   ]
  },
  {
   "cell_type": "code",
   "execution_count": null,
   "id": "85e19e36",
   "metadata": {},
   "outputs": [],
   "source": [
    "var firstName;"
   ]
  },
  {
   "cell_type": "markdown",
   "id": "cbdb8f27",
   "metadata": {},
   "source": [
    "#### Note: When we declare a variable and do not assign it a value, it gets a value of 'undefined'\n",
    "\n",
    "<strong>Note:</strong> console.log() is a function similar to the Python print function that will forward the output to the standard output stream"
   ]
  },
  {
   "cell_type": "code",
   "execution_count": null,
   "id": "e278761f",
   "metadata": {
    "scrolled": true
   },
   "outputs": [
    {
     "name": "stdout",
     "output_type": "stream",
     "text": [
      "undefined\n"
     ]
    }
   ],
   "source": [
    "console.log(firstName)"
   ]
  },
  {
   "cell_type": "markdown",
   "id": "016d0740",
   "metadata": {},
   "source": [
    "#### We can assign the variable a value like so: \n",
    "<strong>Note:</strong> I only use var in the initial declaration"
   ]
  },
  {
   "cell_type": "code",
   "execution_count": null,
   "id": "b2a0fce8",
   "metadata": {},
   "outputs": [
    {
     "data": {
      "text/plain": [
       "'George'"
      ]
     },
     "execution_count": 4,
     "metadata": {},
     "output_type": "execute_result"
    }
   ],
   "source": [
    "firstName = 'George';"
   ]
  },
  {
   "cell_type": "code",
   "execution_count": null,
   "id": "c05c1474",
   "metadata": {
    "scrolled": true
   },
   "outputs": [
    {
     "name": "stdout",
     "output_type": "stream",
     "text": [
      "George\n"
     ]
    }
   ],
   "source": [
    "console.log(firstName)"
   ]
  },
  {
   "cell_type": "markdown",
   "id": "1eab3092",
   "metadata": {},
   "source": [
    "#### We can even declare and assign a variable all in one step."
   ]
  },
  {
   "cell_type": "code",
   "execution_count": null,
   "id": "63aaf5e8",
   "metadata": {},
   "outputs": [],
   "source": [
    "var lastName = 'Bush';"
   ]
  },
  {
   "cell_type": "code",
   "execution_count": null,
   "id": "2a6fd661",
   "metadata": {},
   "outputs": [
    {
     "name": "stdout",
     "output_type": "stream",
     "text": [
      "Bush\n"
     ]
    }
   ],
   "source": [
    "console.log(lastName);"
   ]
  },
  {
   "cell_type": "markdown",
   "id": "50a2ebc9",
   "metadata": {},
   "source": [
    "### Redeclaring\n",
    "This is pretty neat, but it has its issues. One major issue is that with the var keyword, you can redeclare your variable, and this should be avoided."
   ]
  },
  {
   "cell_type": "code",
   "execution_count": null,
   "id": "1c7462f5",
   "metadata": {},
   "outputs": [
    {
     "name": "stdout",
     "output_type": "stream",
     "text": [
      "Bush\n"
     ]
    }
   ],
   "source": [
    "var lastName;\n",
    "console.log(lastName); // it's not undefined here, we get the previous value"
   ]
  },
  {
   "cell_type": "code",
   "execution_count": null,
   "id": "5bf9f60f",
   "metadata": {},
   "outputs": [
    {
     "name": "stdout",
     "output_type": "stream",
     "text": [
      "George Clinton\n"
     ]
    }
   ],
   "source": [
    "var lastName = 'Clinton';\n",
    "console.log(firstName, lastName) // now we have overwritten the original variable lastName\n",
    "// and turned the president into a funk musician"
   ]
  },
  {
   "cell_type": "markdown",
   "id": "bf945454",
   "metadata": {},
   "source": [
    "#### Note: While it possible to create variables without a keyword like var, it is considered bad practice and should be avoided.  It can easily create bugs and issues within your code base"
   ]
  },
  {
   "cell_type": "code",
   "execution_count": null,
   "id": "354dd54c",
   "metadata": {},
   "outputs": [
    {
     "name": "stdout",
     "output_type": "stream",
     "text": [
      "DO NOT DO THIS!\n"
     ]
    }
   ],
   "source": [
    "// Bad Practice; AVOID!\n",
    "message = 'DO NOT DO THIS!';\n",
    "console.log(message);\n",
    "\n"
   ]
  },
  {
   "cell_type": "markdown",
   "id": "0522f03f",
   "metadata": {},
   "source": [
    "### Statement Termination\n",
    "JavaScript lines end with a semicolon or a newline, so to write multiple statements on the same line, you have to use semicolons between the statements, or just use a newline"
   ]
  },
  {
   "cell_type": "code",
   "execution_count": null,
   "id": "3b88a3a9",
   "metadata": {},
   "outputs": [
    {
     "name": "stdout",
     "output_type": "stream",
     "text": [
      "George\n",
      "Clinton\n"
     ]
    }
   ],
   "source": [
    "//On One Line\n",
    "console.log(firstName); console.log(lastName);"
   ]
  },
  {
   "cell_type": "code",
   "execution_count": null,
   "id": "5955f0b5",
   "metadata": {
    "scrolled": true
   },
   "outputs": [
    {
     "name": "stdout",
     "output_type": "stream",
     "text": [
      "George\n",
      "George\n",
      "Clinton\n",
      "Clinton\n"
     ]
    }
   ],
   "source": [
    "// on Multiple Lines (the semi colons are now optional)\n",
    "console.log(firstName);\n",
    "console.log(firstName)\n",
    "console.log(lastName);\n",
    "console.log(lastName)\n"
   ]
  },
  {
   "cell_type": "code",
   "execution_count": null,
   "id": "f14c43b6",
   "metadata": {},
   "outputs": [
    {
     "ename": "SyntaxError",
     "evalue": "Unexpected identifier",
     "output_type": "error",
     "traceback": [
      "evalmachine.<anonymous>:2",
      "console.log(firstName) console.log(lastName)",
      "                       ^^^^^^^",
      "",
      "SyntaxError: Unexpected identifier",
      "    at new Script (node:vm:100:7)",
      "    at createScript (node:vm:259:10)",
      "    at Object.runInThisContext (node:vm:307:10)",
      "    at run ([eval]:1020:15)",
      "    at onRunRequest ([eval]:864:18)",
      "    at onMessage ([eval]:828:13)",
      "    at process.emit (node:events:513:28)",
      "    at emit (node:internal/child_process:937:14)",
      "    at process.processTicksAndRejections (node:internal/process/task_queues:83:21)"
     ]
    }
   ],
   "source": [
    "// But this will not work\n",
    "console.log(firstName) console.log(lastName)"
   ]
  },
  {
   "cell_type": "markdown",
   "id": "c9171bbb",
   "metadata": {},
   "source": [
    "### Strings"
   ]
  },
  {
   "cell_type": "markdown",
   "id": "80f97aa3",
   "metadata": {},
   "source": [
    "<a id=\"strings\"></a>\n",
    "\n",
    "Strings in JS are declared and used very similarly to Python. You can use single or double quotes (but not triple quotes), and useescape sequences to place ambiguous characters.\n",
    "\n",
    "<strong>Note:</strong> Like Python, Strings are also immutable"
   ]
  },
  {
   "cell_type": "code",
   "execution_count": null,
   "id": "0b7b7fac",
   "metadata": {},
   "outputs": [],
   "source": [
    "var myString1 = \"This is a string\";\n",
    "var myString2 = 'This is also a string';\n",
    "var myString3 = \"John's string with an apostrophe\"\n",
    "var myString4 = 'John\\'s string with an apostrophe'\n",
    "var myString5 = \"My \\\"string\\\" with quotes\"\n",
    "var myString6 = 'My \"string\" with quotes'\n"
   ]
  },
  {
   "cell_type": "code",
   "execution_count": null,
   "id": "891c8a2e",
   "metadata": {},
   "outputs": [
    {
     "name": "stdout",
     "output_type": "stream",
     "text": [
      "This is a string\n",
      "This is also a string\n",
      "John's string with an apostrophe\n",
      "John's string with an apostrophe\n",
      "My \"string\" with quotes\n",
      "My \"string\" with quotes\n"
     ]
    }
   ],
   "source": [
    "console.log(myString1)\n",
    "console.log(myString2)\n",
    "console.log(myString3)\n",
    "console.log(myString4)\n",
    "console.log(myString5)\n",
    "console.log(myString6)"
   ]
  },
  {
   "cell_type": "markdown",
   "id": "91ebdd6b",
   "metadata": {},
   "source": [
    "#### String Concatenation"
   ]
  },
  {
   "cell_type": "markdown",
   "id": "453dfed3",
   "metadata": {},
   "source": [
    "Just like in Python, we can concatenate string with a plus sign"
   ]
  },
  {
   "cell_type": "code",
   "execution_count": null,
   "id": "0f773277",
   "metadata": {},
   "outputs": [
    {
     "name": "stdout",
     "output_type": "stream",
     "text": [
      "George Clinton\n"
     ]
    }
   ],
   "source": [
    "var fullName = firstName + ' ' + lastName;\n",
    "console.log(fullName);"
   ]
  },
  {
   "cell_type": "markdown",
   "id": "ecd3ae21",
   "metadata": {},
   "source": [
    "Sometimes you don't want to make a new variable and you just want to print the two variable with console.log. This works similarily to Python."
   ]
  },
  {
   "cell_type": "code",
   "execution_count": null,
   "id": "3cf98143",
   "metadata": {
    "scrolled": true
   },
   "outputs": [
    {
     "name": "stdout",
     "output_type": "stream",
     "text": [
      "George Clinton\n"
     ]
    }
   ],
   "source": [
    "console.log(firstName, lastName)"
   ]
  },
  {
   "cell_type": "markdown",
   "id": "74560611",
   "metadata": {},
   "source": [
    "#### Access Characters in a String\n",
    "This works similarly to Python, except it does not allow for negative indices."
   ]
  },
  {
   "cell_type": "code",
   "execution_count": null,
   "id": "08e48dd6",
   "metadata": {},
   "outputs": [
    {
     "data": {
      "text/plain": [
       "'G'"
      ]
     },
     "execution_count": 18,
     "metadata": {},
     "output_type": "execute_result"
    }
   ],
   "source": [
    "fullName[0]"
   ]
  },
  {
   "cell_type": "code",
   "execution_count": null,
   "id": "ae63a7d2",
   "metadata": {},
   "outputs": [
    {
     "data": {
      "text/plain": [
       "'e'"
      ]
     },
     "execution_count": 19,
     "metadata": {},
     "output_type": "execute_result"
    }
   ],
   "source": [
    "fullName[5]"
   ]
  },
  {
   "cell_type": "code",
   "execution_count": null,
   "id": "95ba2a1a",
   "metadata": {
    "scrolled": true
   },
   "outputs": [
    {
     "name": "stdout",
     "output_type": "stream",
     "text": [
      "undefined\n"
     ]
    }
   ],
   "source": [
    "console.log(fullName[20]) //Note: We Do not get an error, but we do get undefined"
   ]
  },
  {
   "cell_type": "code",
   "execution_count": null,
   "id": "b640d4b2",
   "metadata": {},
   "outputs": [
    {
     "name": "stdout",
     "output_type": "stream",
     "text": [
      "undefined\n"
     ]
    }
   ],
   "source": [
    "console.log(fullName[-5]) //Note: We Do not get an error with a negative index, but we do get undefined"
   ]
  },
  {
   "cell_type": "markdown",
   "id": "d1d67a81",
   "metadata": {},
   "source": [
    "#### String Methods"
   ]
  },
  {
   "cell_type": "markdown",
   "id": "f9ad8546",
   "metadata": {},
   "source": [
    "##### Convert to UPPERCASE\n",
    "JS provides the toUpperCase Method\n",
    "\n",
    "<strong>Note:</strong> Strings are immutable, so this doesn't affect the value of the original string"
   ]
  },
  {
   "cell_type": "code",
   "execution_count": null,
   "id": "6b98bc2b",
   "metadata": {},
   "outputs": [
    {
     "name": "stdout",
     "output_type": "stream",
     "text": [
      "George Clinton\n",
      "GEORGE CLINTON\n"
     ]
    }
   ],
   "source": [
    "console.log(fullName);\n",
    "console.log(fullName.toUpperCase())"
   ]
  },
  {
   "cell_type": "markdown",
   "id": "9c229718",
   "metadata": {},
   "source": [
    "##### Convert to lowercase\n",
    "JS provides the toLowerCase Method\n",
    "\n",
    "<strong>Note:</strong> Strings are immutable, so this doesn't affect the value of the original string"
   ]
  },
  {
   "cell_type": "code",
   "execution_count": null,
   "id": "d0c53fd4",
   "metadata": {},
   "outputs": [
    {
     "name": "stdout",
     "output_type": "stream",
     "text": [
      "George Clinton\n",
      "george clinton\n"
     ]
    }
   ],
   "source": [
    "console.log(fullName);\n",
    "console.log(fullName.toLowerCase())"
   ]
  },
  {
   "cell_type": "markdown",
   "id": "89f22edc",
   "metadata": {},
   "source": [
    "##### Convert to TitleCase\n",
    "JS does not provide us with this ability but we can create our own.\n",
    "\n",
    "Don't worry, no need to understand this function now, just providing it for you as a helpful resource."
   ]
  },
  {
   "cell_type": "code",
   "execution_count": null,
   "id": "eb773664",
   "metadata": {},
   "outputs": [],
   "source": [
    "function titleCase(str) {\n",
    "  str = str.toLowerCase().split(' ');\n",
    "  for (var i = 0; i < str.length; i++) {\n",
    "    str[i] = str[i].charAt(0).toUpperCase() + str[i].slice(1); \n",
    "  }\n",
    "  return str.join(' ');\n",
    "}"
   ]
  },
  {
   "cell_type": "code",
   "execution_count": null,
   "id": "09604ddd",
   "metadata": {},
   "outputs": [
    {
     "data": {
      "text/plain": [
       "'This Sentence Was Written By Someone With A Malfunctioning Shift Key'"
      ]
     },
     "execution_count": 25,
     "metadata": {},
     "output_type": "execute_result"
    }
   ],
   "source": [
    "titleCase(\"tHis SeNtenCe was WRIttEn by someone WiTh a malfuncTioning shift KEY\")"
   ]
  },
  {
   "cell_type": "markdown",
   "id": "56582680",
   "metadata": {},
   "source": [
    "##### Finding the length\n",
    "JS provides a .length property (not a function like in Python) to obtain this information."
   ]
  },
  {
   "cell_type": "code",
   "execution_count": null,
   "id": "e452cb4b",
   "metadata": {},
   "outputs": [
    {
     "data": {
      "text/plain": [
       "'George Clinton'"
      ]
     },
     "execution_count": 26,
     "metadata": {},
     "output_type": "execute_result"
    }
   ],
   "source": [
    "fullName"
   ]
  },
  {
   "cell_type": "code",
   "execution_count": null,
   "id": "20f1c46b",
   "metadata": {},
   "outputs": [
    {
     "data": {
      "text/plain": [
       "14"
      ]
     },
     "execution_count": 27,
     "metadata": {},
     "output_type": "execute_result"
    }
   ],
   "source": [
    "fullName.length"
   ]
  },
  {
   "cell_type": "markdown",
   "id": "20726304",
   "metadata": {},
   "source": [
    "##### String Slicing\n",
    "We can use the slice method to obtain a portion of the string using indices.\n",
    "\n",
    ".slice(inclusive start index, exclusive end index)\n",
    "\n",
    "<strong>Note:</strong> Just like Python indices start with 0 in JS"
   ]
  },
  {
   "cell_type": "code",
   "execution_count": null,
   "id": "2cc6f332",
   "metadata": {},
   "outputs": [
    {
     "name": "stdout",
     "output_type": "stream",
     "text": [
      "George Clinton\n"
     ]
    }
   ],
   "source": [
    "console.log(fullName);"
   ]
  },
  {
   "cell_type": "code",
   "execution_count": null,
   "id": "3b3a686f",
   "metadata": {
    "scrolled": true
   },
   "outputs": [
    {
     "name": "stdout",
     "output_type": "stream",
     "text": [
      "orge Clin\n"
     ]
    }
   ],
   "source": [
    "console.log(fullName.slice(2, 11))"
   ]
  },
  {
   "cell_type": "code",
   "execution_count": null,
   "id": "8c893d48",
   "metadata": {},
   "outputs": [
    {
     "name": "stdout",
     "output_type": "stream",
     "text": [
      "ge Clinton\n"
     ]
    }
   ],
   "source": [
    "console.log(fullName.slice(4))"
   ]
  },
  {
   "cell_type": "markdown",
   "id": "7de520af",
   "metadata": {},
   "source": [
    "##### Using negative Indices\n",
    "Sometimes it's easier to count from the end of a string. We can do this by using negative indexing."
   ]
  },
  {
   "cell_type": "code",
   "execution_count": null,
   "id": "f31efbff",
   "metadata": {
    "scrolled": true
   },
   "outputs": [
    {
     "name": "stdout",
     "output_type": "stream",
     "text": [
      "inton\n"
     ]
    }
   ],
   "source": [
    "console.log(fullName.slice(-5))"
   ]
  },
  {
   "cell_type": "code",
   "execution_count": null,
   "id": "e16b7f76",
   "metadata": {},
   "outputs": [
    {
     "name": "stdout",
     "output_type": "stream",
     "text": [
      "orge Clint\n"
     ]
    }
   ],
   "source": [
    "console.log(fullName.slice(2, -2))"
   ]
  },
  {
   "cell_type": "code",
   "execution_count": null,
   "id": "327aaf79",
   "metadata": {},
   "outputs": [
    {
     "name": "stdout",
     "output_type": "stream",
     "text": [
      "undefined\n"
     ]
    }
   ],
   "source": [
    "// Negative index does not work with bracket notation. Must use .slice\n",
    "console.log(fullName[-1])"
   ]
  },
  {
   "cell_type": "markdown",
   "id": "1db54bd0",
   "metadata": {},
   "source": [
    "### In Class Exercise #1\n",
    "<a id=\"ice1\"></a>"
   ]
  },
  {
   "cell_type": "markdown",
   "id": "defdd94c",
   "metadata": {},
   "source": [
    "In the cell provided, create a variable named 'compoundString' with the value 'hereinbefore'\n",
    "\n",
    "Now, use the variable and the slice function to print (log to the console) the word 'in'"
   ]
  },
  {
   "cell_type": "code",
   "execution_count": null,
   "id": "ce1c2c61",
   "metadata": {},
   "outputs": [],
   "source": [
    "var compoundString = 'hereinbefore'\n",
    "\n",
    "console.log(compoundString.slice(4, 6));"
   ]
  },
  {
   "cell_type": "markdown",
   "id": "c170fa5c",
   "metadata": {},
   "source": [
    "##### Replacing Substrings\n",
    "We can replace a portion of a string using the .replace method."
   ]
  },
  {
   "cell_type": "code",
   "execution_count": null,
   "id": "824d7031",
   "metadata": {
    "scrolled": true
   },
   "outputs": [
    {
     "name": "stdout",
     "output_type": "stream",
     "text": [
      "Bill Clinton\n"
     ]
    }
   ],
   "source": [
    "console.log(fullName.replace('George', 'Bill'));"
   ]
  },
  {
   "cell_type": "code",
   "execution_count": null,
   "id": "88778109",
   "metadata": {},
   "outputs": [
    {
     "name": "stdout",
     "output_type": "stream",
     "text": [
      "Bill Clinton\n"
     ]
    }
   ],
   "source": [
    "var president = fullName.replace('George', 'Bill')\n",
    "\n",
    "console.log(president);"
   ]
  },
  {
   "cell_type": "markdown",
   "id": "1158cd1d",
   "metadata": {},
   "source": [
    "<strong>Note:</strong> The Original String fullName has remained unchanged throughout these methods because strings are immutable"
   ]
  },
  {
   "cell_type": "code",
   "execution_count": null,
   "id": "780e1782",
   "metadata": {
    "scrolled": true
   },
   "outputs": [
    {
     "name": "stdout",
     "output_type": "stream",
     "text": [
      "George Clinton\n"
     ]
    }
   ],
   "source": [
    "console.log(fullName);"
   ]
  },
  {
   "cell_type": "code",
   "execution_count": null,
   "id": "11fab902",
   "metadata": {
    "scrolled": true
   },
   "outputs": [
    {
     "data": {
      "text/plain": [
       "'GEOrgE ClIntOn'"
      ]
     },
     "execution_count": 38,
     "metadata": {},
     "output_type": "execute_result"
    }
   ],
   "source": [
    "// With Regular Expression\n",
    "fullName.replace(/[aeiou]/g, (m) => m.toUpperCase())"
   ]
  },
  {
   "cell_type": "markdown",
   "id": "50a8d9d1",
   "metadata": {},
   "source": [
    "##### Template Literal\n",
    "<a id=\"templit\"></a>\n",
    "Often called Template Strings which are similar to f-strings in Python\n",
    "\n",
    "We can use Backticks (\\`) (usually next to the one key on the same key as the ~) to declare a string and then use ${myVariable} to insert a variable\n",
    "\n",
    "These also allow for multiline strings\n"
   ]
  },
  {
   "cell_type": "code",
   "execution_count": null,
   "id": "831d5cd2",
   "metadata": {},
   "outputs": [
    {
     "name": "stdout",
     "output_type": "stream",
     "text": [
      "This is a string\n",
      "that is written\n",
      "on multiple lines\n"
     ]
    }
   ],
   "source": [
    "var stringMultLines = `This is a string\n",
    "that is written\n",
    "on multiple lines`\n",
    "\n",
    "console.log(stringMultLines);"
   ]
  },
  {
   "cell_type": "code",
   "execution_count": null,
   "id": "18a9f54c",
   "metadata": {},
   "outputs": [
    {
     "name": "stdout",
     "output_type": "stream",
     "text": [
      "The best funk musician of his time was George Clinton\n"
     ]
    }
   ],
   "source": [
    "var templateLiteral = `The best funk musician of his time was ${fullName}`;\n",
    "\n",
    "console.log(templateLiteral)"
   ]
  },
  {
   "cell_type": "code",
   "execution_count": null,
   "id": "73fb25c7",
   "metadata": {},
   "outputs": [
    {
     "name": "stdout",
     "output_type": "stream",
     "text": [
      "The best funk musician of his time was ${fullName}\n"
     ]
    }
   ],
   "source": [
    "// Must use backticks\n",
    "var tempLiteral = \"The best funk musician of his time was ${fullName}\";\n",
    "console.log(tempLiteral)"
   ]
  },
  {
   "cell_type": "markdown",
   "id": "031e31c5",
   "metadata": {},
   "source": [
    "We can even use multiple varaibles in one string"
   ]
  },
  {
   "cell_type": "code",
   "execution_count": null,
   "id": "dd3c11fc",
   "metadata": {
    "scrolled": false
   },
   "outputs": [
    {
     "name": "stdout",
     "output_type": "stream",
     "text": [
      "The best funk musician of his time was Clinton, George: GEORGE CLINTON\n"
     ]
    }
   ],
   "source": [
    "var tempLiteral2 = `The best funk musician of his time was ${lastName}, ${firstName}: ${fullName.toUpperCase()}`\n",
    "\n",
    "console.log(tempLiteral2)"
   ]
  },
  {
   "cell_type": "markdown",
   "id": "61c910e0",
   "metadata": {},
   "source": [
    "### In Class Exercise #2\n",
    "<a id=\"ice2\"></a>\n"
   ]
  },
  {
   "cell_type": "markdown",
   "id": "92088f2e",
   "metadata": {},
   "source": [
    "In the cell provided, create 3 variables describing your best friend, then tell us about your best friend using a template string."
   ]
  },
  {
   "cell_type": "code",
   "execution_count": null,
   "id": "91d04c52",
   "metadata": {},
   "outputs": [],
   "source": []
  },
  {
   "cell_type": "markdown",
   "id": "e1166adb",
   "metadata": {},
   "source": [
    "### typeof Operator\n",
    "<a id=\"typeof\"></a>\n"
   ]
  },
  {
   "cell_type": "markdown",
   "id": "ff29196f",
   "metadata": {},
   "source": [
    "JS provide us with the typeof operator to determine the datatype of a variable (it is not a function, thus does not require parentheses)"
   ]
  },
  {
   "cell_type": "code",
   "execution_count": null,
   "id": "6cf4ef13",
   "metadata": {},
   "outputs": [
    {
     "data": {
      "text/plain": [
       "'string'"
      ]
     },
     "execution_count": 43,
     "metadata": {},
     "output_type": "execute_result"
    }
   ],
   "source": [
    "typeof 'Hello World';"
   ]
  },
  {
   "cell_type": "code",
   "execution_count": null,
   "id": "fb466e10",
   "metadata": {},
   "outputs": [
    {
     "data": {
      "text/plain": [
       "'string'"
      ]
     },
     "execution_count": 44,
     "metadata": {},
     "output_type": "execute_result"
    }
   ],
   "source": [
    "typeof fullName;"
   ]
  },
  {
   "cell_type": "markdown",
   "id": "efcd2f50",
   "metadata": {},
   "source": [
    "### Numeric Type\n",
    "<a id=\"numerics\"></a>\n"
   ]
  },
  {
   "cell_type": "markdown",
   "id": "bc4e2dd7",
   "metadata": {},
   "source": [
    "Unlike many other languages, JS only has one numeric type.\n",
    "\n",
    "So in JS, all numbers (ints, shorts, longs, floats, and doubles) are stored as double precision floating point numbers as their numeric datatype"
   ]
  },
  {
   "cell_type": "code",
   "execution_count": null,
   "id": "3ee27f81",
   "metadata": {},
   "outputs": [
    {
     "name": "stdout",
     "output_type": "stream",
     "text": [
      "123\n",
      "number\n"
     ]
    }
   ],
   "source": [
    "var someInt = 123;\n",
    "console.log(someInt);\n",
    "console.log(typeof someInt);"
   ]
  },
  {
   "cell_type": "code",
   "execution_count": null,
   "id": "92d57480",
   "metadata": {
    "scrolled": true
   },
   "outputs": [
    {
     "name": "stdout",
     "output_type": "stream",
     "text": [
      "3.14\n",
      "number\n"
     ]
    }
   ],
   "source": [
    "var someFloat = 3.14;\n",
    "console.log(someFloat);\n",
    "console.log(typeof someFloat);"
   ]
  },
  {
   "cell_type": "markdown",
   "id": "dc271118",
   "metadata": {},
   "source": [
    "##### Mathematical Operations\n",
    "<a id=\"math\"></a>\n"
   ]
  },
  {
   "cell_type": "markdown",
   "id": "eff67cc4",
   "metadata": {},
   "source": [
    "Basic mathematic operations are the same as in Python, except JS does not have built in integer division (// in Python)\n",
    "\n",
    "We also gain the ++ and -- operators that will increment or decrement your variable by one"
   ]
  },
  {
   "cell_type": "markdown",
   "id": "c00080ce",
   "metadata": {},
   "source": [
    "<strong>Addition</strong>"
   ]
  },
  {
   "cell_type": "code",
   "execution_count": null,
   "id": "2e9ae0c6",
   "metadata": {},
   "outputs": [
    {
     "name": "stdout",
     "output_type": "stream",
     "text": [
      "10\n",
      "15\n",
      "16\n"
     ]
    }
   ],
   "source": [
    "var sum = 5 + 5;\n",
    "console.log(sum);\n",
    "sum += 5; // sum = sum + 5\n",
    "console.log(sum);\n",
    "sum++ // sum = sum + 1\n",
    "console.log(sum);"
   ]
  },
  {
   "cell_type": "markdown",
   "id": "c7d9ef4f",
   "metadata": {},
   "source": [
    "<strong>Subtraction</strong>"
   ]
  },
  {
   "cell_type": "code",
   "execution_count": null,
   "id": "7224a9b9",
   "metadata": {},
   "outputs": [
    {
     "name": "stdout",
     "output_type": "stream",
     "text": [
      "5\n",
      "2\n",
      "1\n"
     ]
    }
   ],
   "source": [
    "var diff = 10 - 5;\n",
    "console.log(diff);\n",
    "diff -= 3; // diff = diff - 3\n",
    "console.log(diff);\n",
    "diff--; // diff = diff - 1\n",
    "console.log(diff);"
   ]
  },
  {
   "cell_type": "markdown",
   "id": "f7eabcf5",
   "metadata": {},
   "source": [
    "<strong>Muplication</strong>"
   ]
  },
  {
   "cell_type": "code",
   "execution_count": null,
   "id": "7a4ddd36",
   "metadata": {},
   "outputs": [
    {
     "name": "stdout",
     "output_type": "stream",
     "text": [
      "25\n",
      "75\n"
     ]
    }
   ],
   "source": [
    "var prod = 5 * 5;\n",
    "console.log(prod);\n",
    "prod *= 3; // prod = prod * 3\n",
    "console.log(prod);"
   ]
  },
  {
   "cell_type": "markdown",
   "id": "d8bd9c8d",
   "metadata": {},
   "source": [
    "<strong>Division</strong>"
   ]
  },
  {
   "cell_type": "code",
   "execution_count": null,
   "id": "78b5a70c",
   "metadata": {},
   "outputs": [
    {
     "name": "stdout",
     "output_type": "stream",
     "text": [
      "4\n",
      "number\n",
      "0.5\n",
      "number\n"
     ]
    }
   ],
   "source": [
    "var quotient = 88 / 22\n",
    "console.log(quotient);\n",
    "console.log(typeof quotient)\n",
    "\n",
    "quotient /= 8;\n",
    "console.log(quotient)\n",
    "console.log(typeof quotient)"
   ]
  },
  {
   "cell_type": "markdown",
   "id": "58c20a98",
   "metadata": {},
   "source": [
    "<strong>Exponents</strong>"
   ]
  },
  {
   "cell_type": "code",
   "execution_count": null,
   "id": "ac0b4f74",
   "metadata": {},
   "outputs": [
    {
     "name": "stdout",
     "output_type": "stream",
     "text": [
      "25\n",
      "15625\n"
     ]
    }
   ],
   "source": [
    "var square = 5**2\n",
    "console.log(square);\n",
    "square **= 3; // square = square ** 3\n",
    "console.log(square);"
   ]
  },
  {
   "cell_type": "markdown",
   "id": "98ded4ce",
   "metadata": {},
   "source": [
    "<strong>Floor Division</strong>"
   ]
  },
  {
   "cell_type": "markdown",
   "id": "7b18dbce",
   "metadata": {},
   "source": [
    "JS provides a helper class called Math to provide some Mathematical operations, this class is built-in to JS"
   ]
  },
  {
   "cell_type": "code",
   "execution_count": null,
   "id": "8ddf4c03",
   "metadata": {},
   "outputs": [
    {
     "name": "stdout",
     "output_type": "stream",
     "text": [
      "2\n"
     ]
    }
   ],
   "source": [
    "// In python we did 5//2 = 2\n",
    "\n",
    "var floor = Math.floor(5/2)\n",
    "console.log(floor);"
   ]
  },
  {
   "cell_type": "markdown",
   "id": "e2058486",
   "metadata": {},
   "source": [
    "<strong>Ceiling Division</strong>"
   ]
  },
  {
   "cell_type": "code",
   "execution_count": null,
   "id": "b8f5c8bf",
   "metadata": {},
   "outputs": [
    {
     "name": "stdout",
     "output_type": "stream",
     "text": [
      "3\n"
     ]
    }
   ],
   "source": [
    "var ceiling = Math.ceil(5/2);\n",
    "console.log(ceiling);"
   ]
  },
  {
   "cell_type": "markdown",
   "id": "547293ae",
   "metadata": {},
   "source": [
    "<strong>Prefixing and Postfixing ++</strong>"
   ]
  },
  {
   "cell_type": "code",
   "execution_count": null,
   "id": "0f5a3ef4",
   "metadata": {},
   "outputs": [
    {
     "name": "stdout",
     "output_type": "stream",
     "text": [
      "2\n",
      "2\n",
      "1\n",
      "2\n"
     ]
    }
   ],
   "source": [
    "var prefixPlus = 1;\n",
    "console.log(++prefixPlus); // 2\n",
    "console.log(prefixPlus); // 2\n",
    "\n",
    "var postfixPlus = 1;\n",
    "console.log(postfixPlus++); // 1\n",
    "console.log(postfixPlus); // 2"
   ]
  },
  {
   "cell_type": "markdown",
   "id": "ddae896c",
   "metadata": {},
   "source": [
    "<strong>Prefixing and Postfixing --</strong>"
   ]
  },
  {
   "cell_type": "code",
   "execution_count": null,
   "id": "ee8f3597",
   "metadata": {},
   "outputs": [
    {
     "name": "stdout",
     "output_type": "stream",
     "text": [
      "0\n",
      "0\n",
      "1\n",
      "0\n"
     ]
    }
   ],
   "source": [
    "var prefixMinus = 1;\n",
    "console.log(--prefixMinus); // 0\n",
    "console.log(prefixMinus); // 0\n",
    "\n",
    "var postfixMinus = 1;\n",
    "console.log(postfixMinus--); // 1\n",
    "console.log(postfixMinus); // 0 "
   ]
  },
  {
   "cell_type": "code",
   "execution_count": null,
   "id": "7d3be820",
   "metadata": {},
   "outputs": [
    {
     "name": "stdout",
     "output_type": "stream",
     "text": [
      "0\n",
      "1\n",
      "2\n",
      "3\n",
      "4\n",
      "5\n",
      "6\n",
      "7\n",
      "8\n",
      "9\n"
     ]
    }
   ],
   "source": [
    "var i = 0;\n",
    "\n",
    "while (i < 10){\n",
    "    console.log(i++)\n",
    "};"
   ]
  },
  {
   "cell_type": "code",
   "execution_count": null,
   "id": "3b10e2a2",
   "metadata": {},
   "outputs": [
    {
     "name": "stdout",
     "output_type": "stream",
     "text": [
      "1\n",
      "2\n",
      "3\n",
      "4\n",
      "5\n",
      "6\n",
      "7\n",
      "8\n",
      "9\n",
      "10\n"
     ]
    }
   ],
   "source": [
    "var j = 0;\n",
    "\n",
    "while (j < 10){\n",
    "    console.log(++j)\n",
    "};"
   ]
  },
  {
   "cell_type": "markdown",
   "id": "8221208d",
   "metadata": {},
   "source": [
    "<strong>Modulo</strong>"
   ]
  },
  {
   "cell_type": "markdown",
   "id": "d308a19a",
   "metadata": {},
   "source": [
    "Remember the Modulo is the remainder left after division. This is a very important tool."
   ]
  },
  {
   "cell_type": "code",
   "execution_count": null,
   "id": "0376f704",
   "metadata": {},
   "outputs": [
    {
     "name": "stdout",
     "output_type": "stream",
     "text": [
      "5\n",
      "1\n"
     ]
    }
   ],
   "source": [
    "var mod = 37 % 8;\n",
    "console.log(mod);\n",
    "\n",
    "mod %= 2;  // mod = mod % 2\n",
    "console.log(mod)"
   ]
  },
  {
   "cell_type": "markdown",
   "id": "42c5f964",
   "metadata": {},
   "source": [
    "<strong>Type Conversions</strong>\n",
    "<a id=\"typeconver\"></a>\n"
   ]
  },
  {
   "cell_type": "markdown",
   "id": "fcc14059",
   "metadata": {},
   "source": [
    "JS provides a way to convert numbers and strings, similar to the int() and str() functions in Python"
   ]
  },
  {
   "cell_type": "code",
   "execution_count": null,
   "id": "29c6740a",
   "metadata": {
    "scrolled": true
   },
   "outputs": [
    {
     "name": "stdout",
     "output_type": "stream",
     "text": [
      "string\n",
      "273\n",
      "number\n"
     ]
    }
   ],
   "source": [
    "var stringNum = '273';\n",
    "console.log(typeof stringNum);\n",
    "\n",
    "var myNum = parseInt(stringNum);\n",
    "console.log(myNum)\n",
    "console.log(typeof myNum)"
   ]
  },
  {
   "cell_type": "markdown",
   "id": "5ca778c4",
   "metadata": {},
   "source": [
    "<strong>Note: </strong> Using parseInt on a decimal number gives you a whole number (rounding down). Instead, use parseFloat."
   ]
  },
  {
   "cell_type": "code",
   "execution_count": null,
   "id": "5c72e98b",
   "metadata": {
    "scrolled": true
   },
   "outputs": [
    {
     "name": "stdout",
     "output_type": "stream",
     "text": [
      "string\n",
      "43\n",
      "43.34\n"
     ]
    }
   ],
   "source": [
    "var someNumber = '43.34';\n",
    "console.log(typeof someNumber);\n",
    "\n",
    "var someInt = parseInt(someNumber);\n",
    "console.log(someInt);\n",
    "\n",
    "var someFloat = parseFloat(someNumber);\n",
    "console.log(someFloat)"
   ]
  },
  {
   "cell_type": "code",
   "execution_count": null,
   "id": "970dfbcd",
   "metadata": {},
   "outputs": [
    {
     "name": "stdout",
     "output_type": "stream",
     "text": [
      "number\n",
      "88457\n",
      "string\n"
     ]
    }
   ],
   "source": [
    "var aNumber = 88457\n",
    "console.log(typeof aNumber);\n",
    "\n",
    "// use the Number.toString() method\n",
    "var aStringNumber = aNumber.toString();\n",
    "console.log(aStringNumber);\n",
    "console.log(typeof aStringNumber);"
   ]
  },
  {
   "cell_type": "markdown",
   "id": "2fcaa7d5",
   "metadata": {},
   "source": [
    "<strong>Interactions with Strings</strong>"
   ]
  },
  {
   "cell_type": "markdown",
   "id": "3ed1004e",
   "metadata": {},
   "source": [
    "Unlike Python, JS will implicitly convert your number to a string when adding strings and integers.\n",
    "\n",
    "This behavior makes sense when you think about the reason for JavaScript. JS was developed to deliver information to an HTML page, and generally, when you are doing this, you want to include your number in a string and not do mathematical operations."
   ]
  },
  {
   "cell_type": "code",
   "execution_count": null,
   "id": "b5639155",
   "metadata": {},
   "outputs": [
    {
     "name": "stdout",
     "output_type": "stream",
     "text": [
      "3.147\n",
      "string\n"
     ]
    }
   ],
   "source": [
    "// check this out\n",
    "var coolStuff = 3.14 + '7';\n",
    "console.log(coolStuff);\n",
    "console.log(typeof coolStuff);\n"
   ]
  },
  {
   "cell_type": "code",
   "execution_count": null,
   "id": "3b8da768",
   "metadata": {},
   "outputs": [
    {
     "name": "stdout",
     "output_type": "stream",
     "text": [
      "7.140000000000001\n"
     ]
    }
   ],
   "source": [
    "// Lets correct this to do math\n",
    "var coolStuff2 = 3.14 + parseInt('4')\n",
    "console.log(coolStuff2)\n",
    "/*\n",
    "Note This operation shows use 7.140000000000001\n",
    "and not 7.14 like we would expect\n",
    "This is due to the limited precision of binary floating-point representations\n",
    "as numbers when stored in memory are stored in a binary (base 2) number system as opposed to\n",
    "the the base 10 (decimal) system we are used to\n",
    "*/"
   ]
  },
  {
   "cell_type": "code",
   "execution_count": null,
   "id": "b4fdcddc",
   "metadata": {},
   "outputs": [
    {
     "name": "stdout",
     "output_type": "stream",
     "text": [
      "3.144\n"
     ]
    }
   ],
   "source": [
    "// Or to explicitly tell it to add as strings we can write:\n",
    "var coolStuff3 = 3.14.toString() + '4';\n",
    "console.log(coolStuff3)"
   ]
  },
  {
   "cell_type": "code",
   "execution_count": null,
   "id": "3dad45ba",
   "metadata": {
    "scrolled": true
   },
   "outputs": [
    {
     "name": "stdout",
     "output_type": "stream",
     "text": [
      "6.28\n"
     ]
    }
   ],
   "source": [
    "//using decimal numbers\n",
    "var coolStuff4 = 3.14 + parseFloat('3.14');\n",
    "console.log(coolStuff4);"
   ]
  },
  {
   "cell_type": "code",
   "execution_count": null,
   "id": "b0261ae6",
   "metadata": {},
   "outputs": [
    {
     "name": "stdout",
     "output_type": "stream",
     "text": [
      "109\n",
      "string\n"
     ]
    }
   ],
   "source": [
    "var guessThis = '10' + '9';\n",
    "console.log(guessThis);\n",
    "console.log(typeof guessThis);"
   ]
  },
  {
   "cell_type": "code",
   "execution_count": null,
   "id": "a189e391",
   "metadata": {},
   "outputs": [
    {
     "name": "stdout",
     "output_type": "stream",
     "text": [
      "1\n"
     ]
    }
   ],
   "source": [
    "var guessThis2 = '10' - '9';\n",
    "console.log(guessThis2);"
   ]
  },
  {
   "cell_type": "code",
   "execution_count": null,
   "id": "7e8b0369",
   "metadata": {},
   "outputs": [
    {
     "name": "stdout",
     "output_type": "stream",
     "text": [
      "true\n"
     ]
    }
   ],
   "source": [
    "var guessThis3 = 10 > '9';\n",
    "console.log(guessThis3);"
   ]
  },
  {
   "cell_type": "code",
   "execution_count": null,
   "id": "85e910da",
   "metadata": {},
   "outputs": [
    {
     "name": "stdout",
     "output_type": "stream",
     "text": [
      "false\n"
     ]
    }
   ],
   "source": [
    "var guessThis4 = '100' > '9'; // Both values are already strings, no need to convert, compare alphabetically\n",
    "console.log(guessThis4);"
   ]
  },
  {
   "cell_type": "markdown",
   "id": "d27d92fd",
   "metadata": {},
   "source": [
    "### Boolean Types\n",
    "<a id=\"bools\"></a>\n"
   ]
  },
  {
   "cell_type": "markdown",
   "id": "bcc2f8a6",
   "metadata": {},
   "source": [
    "Boolean datatypes are true and false in JS, not True and False like in Python (notice the capitalization)"
   ]
  },
  {
   "cell_type": "code",
   "execution_count": null,
   "id": "284cf50c",
   "metadata": {},
   "outputs": [
    {
     "name": "stdout",
     "output_type": "stream",
     "text": [
      "true\n",
      "boolean\n"
     ]
    }
   ],
   "source": [
    "var myBool1 = true;\n",
    "console.log(myBool1);\n",
    "console.log(typeof myBool1);"
   ]
  },
  {
   "cell_type": "code",
   "execution_count": null,
   "id": "da4c0406",
   "metadata": {},
   "outputs": [
    {
     "name": "stdout",
     "output_type": "stream",
     "text": [
      "false\n",
      "boolean\n"
     ]
    }
   ],
   "source": [
    "var myBool2 = false;\n",
    "console.log(myBool2);\n",
    "console.log(typeof myBool2);"
   ]
  },
  {
   "cell_type": "markdown",
   "id": "8ef95eb6",
   "metadata": {},
   "source": [
    "#### Comparison Operators"
   ]
  },
  {
   "cell_type": "markdown",
   "id": "d3e19569",
   "metadata": {},
   "source": [
    "These work just like they do in Python or in mathematics"
   ]
  },
  {
   "cell_type": "code",
   "execution_count": null,
   "id": "2cc33a6a",
   "metadata": {},
   "outputs": [
    {
     "name": "stdout",
     "output_type": "stream",
     "text": [
      "true\n",
      "true\n",
      "true\n",
      "false\n",
      "false\n",
      "true\n"
     ]
    }
   ],
   "source": [
    "console.log(1 < 2); // true\n",
    "console.log(10 > 4); // true\n",
    "console.log(10 >= 10); // true\n",
    "console.log(10 <= 5); // false\n",
    "console.log(1 == 2); // false\n",
    "console.log(1 != 2); // true"
   ]
  },
  {
   "cell_type": "markdown",
   "id": "7940d670",
   "metadata": {},
   "source": [
    "#### Strict Equailty"
   ]
  },
  {
   "cell_type": "markdown",
   "id": "d47280fb",
   "metadata": {},
   "source": [
    "In JS we have something called strict equality `===` and something called loose equality `==`\n",
    "\n",
    "With Loose equality, JS can implicitly type convert and can check if the values are the same\n",
    "\n",
    "With Strict equality, JS ensures both the type and the values are the same"
   ]
  },
  {
   "cell_type": "code",
   "execution_count": null,
   "id": "ef692824",
   "metadata": {
    "scrolled": true
   },
   "outputs": [
    {
     "name": "stdout",
     "output_type": "stream",
     "text": [
      "true\n"
     ]
    }
   ],
   "source": [
    "var numOne = 1;\n",
    "var strOne = '1';\n",
    "\n",
    "console.log(numOne == strOne); // true - same value, different datatype"
   ]
  },
  {
   "cell_type": "code",
   "execution_count": null,
   "id": "37f1fed7",
   "metadata": {},
   "outputs": [
    {
     "name": "stdout",
     "output_type": "stream",
     "text": [
      "false\n"
     ]
    }
   ],
   "source": [
    "console.log(numOne === strOne); // false - because different datatype"
   ]
  },
  {
   "cell_type": "markdown",
   "id": "f0f6fd31",
   "metadata": {},
   "source": [
    "#### Negating booleans"
   ]
  },
  {
   "cell_type": "markdown",
   "id": "9d8d3e4e",
   "metadata": {},
   "source": [
    "In Python, we had access to the `not` keyword, in JS we only have access to the logical not operator `!`\n",
    "\n",
    "It can precede any boolean arguement to switch its value"
   ]
  },
  {
   "cell_type": "code",
   "execution_count": null,
   "id": "c3a0cede",
   "metadata": {
    "scrolled": true
   },
   "outputs": [
    {
     "name": "stdout",
     "output_type": "stream",
     "text": [
      "false\n"
     ]
    }
   ],
   "source": [
    "console.log(numOne != strOne); // same value, allows for type conversion"
   ]
  },
  {
   "cell_type": "code",
   "execution_count": null,
   "id": "d87b138f",
   "metadata": {
    "scrolled": true
   },
   "outputs": [
    {
     "name": "stdout",
     "output_type": "stream",
     "text": [
      "true\n"
     ]
    }
   ],
   "source": [
    "console.log(numOne !== strOne); // different datatypes, not equal is true"
   ]
  },
  {
   "cell_type": "code",
   "execution_count": null,
   "id": "7def5646",
   "metadata": {},
   "outputs": [
    {
     "name": "stdout",
     "output_type": "stream",
     "text": [
      "false\n",
      "true\n"
     ]
    }
   ],
   "source": [
    "console.log(!true)\n",
    "console.log(!false)"
   ]
  },
  {
   "cell_type": "markdown",
   "id": "c3e3e302",
   "metadata": {},
   "source": [
    "#### Converting to Booleans"
   ]
  },
  {
   "cell_type": "code",
   "execution_count": null,
   "id": "526cb328",
   "metadata": {
    "scrolled": true
   },
   "outputs": [
    {
     "name": "stdout",
     "output_type": "stream",
     "text": [
      "true\n",
      "false\n",
      "true\n",
      "false\n",
      "false\n",
      "false\n"
     ]
    }
   ],
   "source": [
    "console.log(Boolean('false')) //prints true because a string with a value is considered true\n",
    "console.log(Boolean('')) //prints false because an empty string is considered false\n",
    "console.log(Boolean(44)) //prints true because any number other than 0 is true\n",
    "console.log(Boolean(0)) //prints false because 0 is always false\n",
    "\n",
    "console.log(Boolean(null));\n",
    "console.log(Boolean(undefined))"
   ]
  },
  {
   "cell_type": "markdown",
   "id": "c6124644",
   "metadata": {},
   "source": [
    "#### Double Negation\n"
   ]
  },
  {
   "cell_type": "markdown",
   "id": "42530a87",
   "metadata": {},
   "source": [
    "Another common tactic to convert variables to booleans with to use a double negation `!!`"
   ]
  },
  {
   "cell_type": "code",
   "execution_count": null,
   "id": "9df58e0b",
   "metadata": {},
   "outputs": [
    {
     "name": "stdout",
     "output_type": "stream",
     "text": [
      "John Jacob Jingleheimer Schmidt\n",
      "false\n",
      "true\n"
     ]
    }
   ],
   "source": [
    "var myName = 'John Jacob Jingleheimer Schmidt';\n",
    "console.log(myName);\n",
    "\n",
    "// Note: using one ! gives us the opposite output we would have gotten than if we passed the value to the Boolean wrapper\n",
    "console.log(!myName);\n",
    "\n",
    "//Here, we use the negation once to convert to a boolean and then again to return it back to its correct value\n",
    "console.log(!!myName);"
   ]
  },
  {
   "cell_type": "code",
   "execution_count": null,
   "id": "eaaf7df5",
   "metadata": {},
   "outputs": [
    {
     "name": "stdout",
     "output_type": "stream",
     "text": [
      "true\n",
      "false\n"
     ]
    }
   ],
   "source": [
    "var emptyString = '';\n",
    "\n",
    "console.log(!emptyString);\n",
    "console.log(!!emptyString);"
   ]
  },
  {
   "cell_type": "markdown",
   "id": "c5c6f904",
   "metadata": {},
   "source": [
    "#### Chaining Booleans"
   ]
  },
  {
   "cell_type": "markdown",
   "id": "298461e1",
   "metadata": {},
   "source": [
    "In Python, we had the keywords `and` and `or`, but in JS we use the operators `&&` and `||` (and & or)"
   ]
  },
  {
   "cell_type": "code",
   "execution_count": null,
   "id": "95ef3d67",
   "metadata": {
    "scrolled": true
   },
   "outputs": [
    {
     "data": {
      "text/plain": [
       "true"
      ]
     },
     "execution_count": 81,
     "metadata": {},
     "output_type": "execute_result"
    }
   ],
   "source": [
    "true || true"
   ]
  },
  {
   "cell_type": "code",
   "execution_count": null,
   "id": "bb572f17",
   "metadata": {
    "scrolled": true
   },
   "outputs": [
    {
     "data": {
      "text/plain": [
       "true"
      ]
     },
     "execution_count": 82,
     "metadata": {},
     "output_type": "execute_result"
    }
   ],
   "source": [
    "true || false"
   ]
  },
  {
   "cell_type": "code",
   "execution_count": null,
   "id": "4d2218a0",
   "metadata": {},
   "outputs": [
    {
     "data": {
      "text/plain": [
       "true"
      ]
     },
     "execution_count": 83,
     "metadata": {},
     "output_type": "execute_result"
    }
   ],
   "source": [
    "false || true"
   ]
  },
  {
   "cell_type": "code",
   "execution_count": null,
   "id": "dd55f9fd",
   "metadata": {},
   "outputs": [
    {
     "data": {
      "text/plain": [
       "false"
      ]
     },
     "execution_count": 84,
     "metadata": {},
     "output_type": "execute_result"
    }
   ],
   "source": [
    "false || false"
   ]
  },
  {
   "cell_type": "code",
   "execution_count": null,
   "id": "f4b2fc50",
   "metadata": {},
   "outputs": [
    {
     "data": {
      "text/plain": [
       "true"
      ]
     },
     "execution_count": 85,
     "metadata": {},
     "output_type": "execute_result"
    }
   ],
   "source": [
    "true && true"
   ]
  },
  {
   "cell_type": "code",
   "execution_count": null,
   "id": "fe91be75",
   "metadata": {},
   "outputs": [
    {
     "data": {
      "text/plain": [
       "false"
      ]
     },
     "execution_count": 86,
     "metadata": {},
     "output_type": "execute_result"
    }
   ],
   "source": [
    "true && false"
   ]
  },
  {
   "cell_type": "code",
   "execution_count": null,
   "id": "d96fa319",
   "metadata": {},
   "outputs": [
    {
     "data": {
      "text/plain": [
       "false"
      ]
     },
     "execution_count": 87,
     "metadata": {},
     "output_type": "execute_result"
    }
   ],
   "source": [
    "false && true"
   ]
  },
  {
   "cell_type": "code",
   "execution_count": null,
   "id": "59203508",
   "metadata": {
    "scrolled": true
   },
   "outputs": [
    {
     "data": {
      "text/plain": [
       "false"
      ]
     },
     "execution_count": 88,
     "metadata": {},
     "output_type": "execute_result"
    }
   ],
   "source": [
    "false && false"
   ]
  },
  {
   "cell_type": "markdown",
   "id": "7375e295",
   "metadata": {},
   "source": [
    "#### Short Circuiting "
   ]
  },
  {
   "cell_type": "markdown",
   "id": "98ee733a",
   "metadata": {},
   "source": [
    "When using the `&&` operator, once an expression returns false no following expressions are ran.\n",
    "\n",
    "With the || operator, it will stop and return true if the first argument is true"
   ]
  },
  {
   "cell_type": "code",
   "execution_count": null,
   "id": "5af0dbd4",
   "metadata": {},
   "outputs": [],
   "source": [
    "function t1(){\n",
    "    console.log('t1 ran');\n",
    "    return false;\n",
    "}\n",
    "\n",
    "function t2(){\n",
    "    console.log('t2 ran');\n",
    "    return true;\n",
    "}\n",
    "\n",
    "function t3(){\n",
    "    console.log('t3 ran');\n",
    "    return false\n",
    "}\n"
   ]
  },
  {
   "cell_type": "markdown",
   "id": "167818ee",
   "metadata": {},
   "source": [
    "Now, chaining these two functions with the add operator, we see that the only output in the console is `t1 ran`. This is because t1 returned false, so JS decided it already knew the statement should return false, so it doesn't execute the t2() function."
   ]
  },
  {
   "cell_type": "code",
   "execution_count": null,
   "id": "7e844158",
   "metadata": {
    "scrolled": true
   },
   "outputs": [
    {
     "name": "stdout",
     "output_type": "stream",
     "text": [
      "t1 ran\n"
     ]
    },
    {
     "data": {
      "text/plain": [
       "false"
      ]
     },
     "execution_count": 90,
     "metadata": {},
     "output_type": "execute_result"
    }
   ],
   "source": [
    "t1()&&t2()&&t3()"
   ]
  },
  {
   "cell_type": "code",
   "execution_count": null,
   "id": "73c35e87",
   "metadata": {},
   "outputs": [
    {
     "name": "stdout",
     "output_type": "stream",
     "text": [
      "t1 ran\n",
      "t2 ran\n"
     ]
    },
    {
     "data": {
      "text/plain": [
       "true"
      ]
     },
     "execution_count": 91,
     "metadata": {},
     "output_type": "execute_result"
    }
   ],
   "source": [
    "t1()||t2()||t3()"
   ]
  },
  {
   "cell_type": "markdown",
   "id": "2f35fc22",
   "metadata": {},
   "source": [
    "## null vs undefined\n",
    "<a id=\"nullundef\"></a>\n"
   ]
  },
  {
   "cell_type": "markdown",
   "id": "7a95f261",
   "metadata": {},
   "source": [
    "undefined means the variable was declared and not given a value or an undefined value\n",
    "\n",
    "null is a value and can be assigned to represent no value"
   ]
  },
  {
   "cell_type": "code",
   "execution_count": null,
   "id": "15e1e2ab",
   "metadata": {
    "scrolled": true
   },
   "outputs": [
    {
     "name": "stdout",
     "output_type": "stream",
     "text": [
      "undefined\n",
      "undefined\n",
      "null\n",
      "\n",
      "types: \n",
      "\n",
      "undefined\n",
      "undefined\n",
      "object\n"
     ]
    }
   ],
   "source": [
    "var myNull = null\n",
    "var myUndefined1 = undefined\n",
    "var myUndefined2\n",
    "\n",
    "console.log(myUndefined1)\n",
    "console.log(myUndefined2)\n",
    "console.log(myNull)\n",
    "console.log('\\ntypes: \\n')\n",
    "console.log(typeof myUndefined1)\n",
    "console.log(typeof myUndefined2)\n",
    "console.log(typeof myNull) //null is an object!"
   ]
  },
  {
   "cell_type": "markdown",
   "id": "f156ebb9",
   "metadata": {},
   "source": [
    "## Let and Const\n",
    "<a id=\"letconst\"></a>\n"
   ]
  },
  {
   "cell_type": "markdown",
   "id": "d3048103",
   "metadata": {},
   "source": [
    "So far we have declared all our variables with the keyword var.\n",
    "\n",
    "In the current JS (post ES-6), the word var should actually be avoided at all costs.\n",
    "\n",
    "In ECMAScript 6 they introduced let and const, which vary in scope and in redeclaration from var\n",
    "\n",
    "For more information watch this great YouTube video <a href=\"https://youtube.com/watch?v=9WIJQDvt4Us\">youtube.com/watch?v=9WIJQDvt4Us</a>"
   ]
  },
  {
   "cell_type": "code",
   "execution_count": null,
   "id": "62201f58",
   "metadata": {},
   "outputs": [
    {
     "name": "stdout",
     "output_type": "stream",
     "text": [
      "hello\n",
      "world\n"
     ]
    }
   ],
   "source": [
    "var myVar = 'hello'\n",
    "console.log(myVar);\n",
    "// var can be redeclared; This can be dangerous\n",
    "var myVar = 'world';\n",
    "console.log(myVar);"
   ]
  },
  {
   "cell_type": "code",
   "execution_count": null,
   "id": "c1c1fc63",
   "metadata": {
    "scrolled": false
   },
   "outputs": [
    {
     "ename": "SyntaxError",
     "evalue": "Identifier 'myLet' has already been declared",
     "output_type": "error",
     "traceback": [
      "evalmachine.<anonymous>:4",
      "let myLet = 'World';",
      "    ^",
      "",
      "SyntaxError: Identifier 'myLet' has already been declared",
      "    at new Script (node:vm:100:7)",
      "    at createScript (node:vm:259:10)",
      "    at Object.runInThisContext (node:vm:307:10)",
      "    at run ([eval]:1020:15)",
      "    at onRunRequest ([eval]:864:18)",
      "    at onMessage ([eval]:828:13)",
      "    at process.emit (node:events:513:28)",
      "    at emit (node:internal/child_process:937:14)",
      "    at process.processTicksAndRejections (node:internal/process/task_queues:83:21)"
     ]
    }
   ],
   "source": [
    "let myLet = 'Hello';\n",
    "console.log(myLet);\n",
    "//Throws an error on redeclaration; Saves us from ourselves\n",
    "let myLet = 'World';\n",
    "console.log(myLet);"
   ]
  },
  {
   "cell_type": "code",
   "execution_count": null,
   "id": "4238d5ae",
   "metadata": {},
   "outputs": [
    {
     "ename": "SyntaxError",
     "evalue": "Identifier 'myConst' has already been declared",
     "output_type": "error",
     "traceback": [
      "evalmachine.<anonymous>:4",
      "const myConst = 'World';",
      "      ^",
      "",
      "SyntaxError: Identifier 'myConst' has already been declared",
      "    at new Script (node:vm:100:7)",
      "    at createScript (node:vm:259:10)",
      "    at Object.runInThisContext (node:vm:307:10)",
      "    at run ([eval]:1020:15)",
      "    at onRunRequest ([eval]:864:18)",
      "    at onMessage ([eval]:828:13)",
      "    at process.emit (node:events:513:28)",
      "    at emit (node:internal/child_process:937:14)",
      "    at process.processTicksAndRejections (node:internal/process/task_queues:83:21)"
     ]
    }
   ],
   "source": [
    "const myConst = 'Hello';\n",
    "console.log(myConst);\n",
    "//Throws an error on redeclaration; Saves us from ourselves\n",
    "const myConst = 'World';\n",
    "console.log(myConst);"
   ]
  },
  {
   "cell_type": "markdown",
   "id": "7cf7f537",
   "metadata": {},
   "source": [
    "You can still reassign the let varaibles, but not the const variables because they are constant (do not change)"
   ]
  },
  {
   "cell_type": "code",
   "execution_count": null,
   "id": "96449452",
   "metadata": {
    "scrolled": true
   },
   "outputs": [
    {
     "name": "stdout",
     "output_type": "stream",
     "text": [
      "Brian\n",
      "Stanton\n"
     ]
    }
   ],
   "source": [
    "let myOtherLet = 'Brian';\n",
    "console.log(myOtherLet);\n",
    "\n",
    "// Reassign the variable declared with let\n",
    "myOtherLet = 'Stanton';\n",
    "console.log(myOtherLet);"
   ]
  },
  {
   "cell_type": "code",
   "execution_count": null,
   "id": "a1352cdd",
   "metadata": {},
   "outputs": [
    {
     "name": "stdout",
     "output_type": "stream",
     "text": [
      "Coding\n"
     ]
    },
    {
     "ename": "TypeError",
     "evalue": "Assignment to constant variable.",
     "output_type": "error",
     "traceback": [
      "evalmachine.<anonymous>:4",
      "myOtherConst1 = 'Temple';",
      "              ^",
      "",
      "TypeError: Assignment to constant variable.",
      "    at evalmachine.<anonymous>:4:15",
      "    at Script.runInThisContext (node:vm:129:12)",
      "    at Object.runInThisContext (node:vm:307:38)",
      "    at run ([eval]:1020:15)",
      "    at onRunRequest ([eval]:864:18)",
      "    at onMessage ([eval]:828:13)",
      "    at process.emit (node:events:513:28)",
      "    at emit (node:internal/child_process:937:14)",
      "    at process.processTicksAndRejections (node:internal/process/task_queues:83:21)"
     ]
    }
   ],
   "source": [
    "const myOtherConst1 = 'Coding'\n",
    "console.log(myOtherConst1);\n",
    "//not allowed/Throws Error as a const can never change\n",
    "myOtherConst1 = 'Temple';\n",
    "console.log(myOtherConst1)"
   ]
  },
  {
   "cell_type": "markdown",
   "id": "95c6489a",
   "metadata": {},
   "source": [
    "Also, Let and Const have different scoping than var.\n",
    "\n",
    "Let and Const are blocked scoped, meaning they are only avialible to their code block or descendent code blocks."
   ]
  },
  {
   "cell_type": "code",
   "execution_count": null,
   "id": "bc461806",
   "metadata": {},
   "outputs": [
    {
     "name": "stdout",
     "output_type": "stream",
     "text": [
      "inside block: test\n",
      "outside block: test\n"
     ]
    }
   ],
   "source": [
    "if (true) {\n",
    "    var testVariable = 'test'; // Var is scoped globally (unless declared in a function, then it is function-scoped)\n",
    "    console.log('inside block:', testVariable);\n",
    "};\n",
    "\n",
    "console.log('outside block:', testVariable);"
   ]
  },
  {
   "cell_type": "code",
   "execution_count": null,
   "id": "97a659a4",
   "metadata": {},
   "outputs": [
    {
     "name": "stdout",
     "output_type": "stream",
     "text": [
      "inside block: test\n"
     ]
    },
    {
     "ename": "ReferenceError",
     "evalue": "testLet is not defined",
     "output_type": "error",
     "traceback": [
      "evalmachine.<anonymous>:6",
      "console.log('outside block:', testLet);",
      "                              ^",
      "",
      "ReferenceError: testLet is not defined",
      "    at evalmachine.<anonymous>:6:31",
      "    at Script.runInThisContext (node:vm:129:12)",
      "    at Object.runInThisContext (node:vm:307:38)",
      "    at run ([eval]:1020:15)",
      "    at onRunRequest ([eval]:864:18)",
      "    at onMessage ([eval]:828:13)",
      "    at process.emit (node:events:513:28)",
      "    at emit (node:internal/child_process:937:14)",
      "    at process.processTicksAndRejections (node:internal/process/task_queues:83:21)"
     ]
    }
   ],
   "source": [
    "if (true) {\n",
    "    let testLet = 'test'; // let is block-scoped\n",
    "    console.log('inside block:', testLet);\n",
    "};\n",
    "\n",
    "console.log('outside block:', testLet);"
   ]
  },
  {
   "cell_type": "code",
   "execution_count": null,
   "id": "3ada52d4",
   "metadata": {},
   "outputs": [
    {
     "name": "stdout",
     "output_type": "stream",
     "text": [
      "First Block: Brian\n",
      "Nested Block: Brian\n"
     ]
    },
    {
     "ename": "ReferenceError",
     "evalue": "anotherLet is not defined",
     "output_type": "error",
     "traceback": [
      "evalmachine.<anonymous>:8",
      "console.log('Outside Block:', anotherLet)",
      "                              ^",
      "",
      "ReferenceError: anotherLet is not defined",
      "    at evalmachine.<anonymous>:8:31",
      "    at Script.runInThisContext (node:vm:129:12)",
      "    at Object.runInThisContext (node:vm:307:38)",
      "    at run ([eval]:1020:15)",
      "    at onRunRequest ([eval]:864:18)",
      "    at onMessage ([eval]:828:13)",
      "    at process.emit (node:events:513:28)",
      "    at emit (node:internal/child_process:937:14)",
      "    at process.processTicksAndRejections (node:internal/process/task_queues:83:21)"
     ]
    }
   ],
   "source": [
    "if (true){\n",
    "    let anotherLet = 'Brian';\n",
    "    console.log('First Block:', anotherLet);\n",
    "    if (true) {\n",
    "        console.log('Nested Block:', anotherLet);\n",
    "    }\n",
    "}\n",
    "console.log('Outside Block:', anotherLet)\n"
   ]
  },
  {
   "cell_type": "code",
   "execution_count": null,
   "id": "e4a3bc7c",
   "metadata": {},
   "outputs": [
    {
     "name": "stdout",
     "output_type": "stream",
     "text": [
      "Inside: constant\n"
     ]
    },
    {
     "ename": "ReferenceError",
     "evalue": "someConstant is not defined",
     "output_type": "error",
     "traceback": [
      "evalmachine.<anonymous>:5",
      "console.log(someConstant);",
      "            ^",
      "",
      "ReferenceError: someConstant is not defined",
      "    at evalmachine.<anonymous>:5:13",
      "    at Script.runInThisContext (node:vm:129:12)",
      "    at Object.runInThisContext (node:vm:307:38)",
      "    at run ([eval]:1020:15)",
      "    at onRunRequest ([eval]:864:18)",
      "    at onMessage ([eval]:828:13)",
      "    at process.emit (node:events:513:28)",
      "    at emit (node:internal/child_process:937:14)",
      "    at process.processTicksAndRejections (node:internal/process/task_queues:83:21)"
     ]
    }
   ],
   "source": [
    "if (true){\n",
    "    const someConstant = 'constant';\n",
    "    console.log('Inside:',someConstant);\n",
    "}\n",
    "console.log(someConstant);"
   ]
  },
  {
   "cell_type": "markdown",
   "id": "84a58081",
   "metadata": {},
   "source": [
    "# From now on, we will only use let and const"
   ]
  },
  {
   "cell_type": "code",
   "execution_count": null,
   "id": "8bf6e034",
   "metadata": {},
   "outputs": [
    {
     "name": "stdout",
     "output_type": "stream",
     "text": [
      "undefined\n"
     ]
    }
   ],
   "source": [
    "console.log(someVarYetToBeDeclared);\n",
    "var someVarYetToBeDeclared = 'Declared Value';"
   ]
  },
  {
   "cell_type": "code",
   "execution_count": null,
   "id": "cc67c4e2",
   "metadata": {},
   "outputs": [],
   "source": [
    "// The above code actually looks like this due to \"variable hoisting\"\n",
    "/*\n",
    "    var someVarYetToBeDeclared;\n",
    "    console.log(someVarYetToBeDeclared);\n",
    "    someVarYetToBeDeclared  = 'Declared Value';\n",
    "*/"
   ]
  },
  {
   "cell_type": "code",
   "execution_count": null,
   "id": "c403bf73",
   "metadata": {
    "scrolled": true
   },
   "outputs": [
    {
     "ename": "ReferenceError",
     "evalue": "Cannot access 'someRandomLet' before initialization",
     "output_type": "error",
     "traceback": [
      "evalmachine.<anonymous>:1",
      "console.log(someRandomLet);",
      "            ^",
      "",
      "ReferenceError: Cannot access 'someRandomLet' before initialization",
      "    at evalmachine.<anonymous>:1:13",
      "    at Script.runInThisContext (node:vm:129:12)",
      "    at Object.runInThisContext (node:vm:307:38)",
      "    at run ([eval]:1020:15)",
      "    at onRunRequest ([eval]:864:18)",
      "    at onMessage ([eval]:828:13)",
      "    at process.emit (node:events:513:28)",
      "    at emit (node:internal/child_process:937:14)",
      "    at process.processTicksAndRejections (node:internal/process/task_queues:83:21)"
     ]
    }
   ],
   "source": [
    "console.log(someRandomLet);\n",
    "let someRandomLet = 'random';"
   ]
  },
  {
   "cell_type": "markdown",
   "id": "62c5a05a",
   "metadata": {},
   "source": [
    "## Arrays\n",
    "<a id=\"arrays\"></a>\n"
   ]
  },
  {
   "cell_type": "markdown",
   "id": "5892d6e0",
   "metadata": {},
   "source": [
    "Arrays in JavaScript are similar to lists in Python. In both languages, they are heterogeneous (can contain different datatypes) collections and they both start at index 0."
   ]
  },
  {
   "cell_type": "markdown",
   "id": "753e2897",
   "metadata": {},
   "source": [
    "#### Declaring"
   ]
  },
  {
   "cell_type": "code",
   "execution_count": null,
   "id": "bd9a5884",
   "metadata": {},
   "outputs": [
    {
     "name": "stdout",
     "output_type": "stream",
     "text": [
      "[ 'Taylor Swift', 'Harry Styles', 'Beyonce', 'Billie Eilish' ]\n",
      "object\n"
     ]
    }
   ],
   "source": [
    "let people = [\"Taylor Swift\", \"Harry Styles\", \"Beyonce\", \"Billie Eilish\"]\n",
    "console.log(people)\n",
    "console.log(typeof people) // 'object'"
   ]
  },
  {
   "cell_type": "markdown",
   "id": "f3b78f73",
   "metadata": {},
   "source": [
    "#### Accessing"
   ]
  },
  {
   "cell_type": "code",
   "execution_count": null,
   "id": "8ee77c14",
   "metadata": {},
   "outputs": [
    {
     "name": "stdout",
     "output_type": "stream",
     "text": [
      "Beyonce\n"
     ]
    }
   ],
   "source": [
    "console.log(people[2])"
   ]
  },
  {
   "cell_type": "code",
   "execution_count": null,
   "id": "fb6dcb71",
   "metadata": {
    "scrolled": false
   },
   "outputs": [
    {
     "name": "stdout",
     "output_type": "stream",
     "text": [
      "undefined\n"
     ]
    }
   ],
   "source": [
    "// Negative indexing does not work\n",
    "console.log(people[-1])"
   ]
  },
  {
   "cell_type": "markdown",
   "id": "4a10ef9f",
   "metadata": {},
   "source": [
    "#### .length Property"
   ]
  },
  {
   "cell_type": "code",
   "execution_count": null,
   "id": "7268f047",
   "metadata": {},
   "outputs": [
    {
     "name": "stdout",
     "output_type": "stream",
     "text": [
      "4\n"
     ]
    }
   ],
   "source": [
    "console.log(people.length)"
   ]
  },
  {
   "cell_type": "markdown",
   "id": "a43c810b",
   "metadata": {},
   "source": [
    "#### .push Method"
   ]
  },
  {
   "cell_type": "markdown",
   "id": "5d2411b0",
   "metadata": {},
   "source": [
    "the .push method in JS is similar to the .append method in Python.\n",
    "\n",
    "A key difference you will see is that in Python, .append returned None\n",
    "\n",
    "In JS, .push returns the length of the list after your addition"
   ]
  },
  {
   "cell_type": "code",
   "execution_count": null,
   "id": "4a3334c6",
   "metadata": {
    "scrolled": true
   },
   "outputs": [
    {
     "name": "stdout",
     "output_type": "stream",
     "text": [
      "5\n",
      "[\n",
      "  'Taylor Swift',\n",
      "  'Harry Styles',\n",
      "  'Beyonce',\n",
      "  'Billie Eilish',\n",
      "  'Lady Gaga'\n",
      "]\n"
     ]
    }
   ],
   "source": [
    "// show 5 which is the length of the list\n",
    "let returnValue = people.push('Lady Gaga');\n",
    "console.log(returnValue);\n",
    "console.log(people)"
   ]
  },
  {
   "cell_type": "markdown",
   "id": "77090761",
   "metadata": {},
   "source": [
    "#### .pop method"
   ]
  },
  {
   "cell_type": "markdown",
   "id": "d7bdce92",
   "metadata": {},
   "source": [
    ".pop() works just like it does in Python.  It will remove the last element from an array and return its values"
   ]
  },
  {
   "cell_type": "code",
   "execution_count": null,
   "id": "640df9a8",
   "metadata": {},
   "outputs": [
    {
     "name": "stdout",
     "output_type": "stream",
     "text": [
      "[ 'Taylor Swift', 'Harry Styles', 'Beyonce', 'Billie Eilish' ]\n",
      "Lady Gaga\n"
     ]
    }
   ],
   "source": [
    "let lastValue = people.pop();\n",
    "\n",
    "console.log(people);\n",
    "console.log(lastValue);"
   ]
  },
  {
   "cell_type": "markdown",
   "id": "e215f19f",
   "metadata": {},
   "source": [
    "#### Array Destructuring Assignment"
   ]
  },
  {
   "cell_type": "markdown",
   "id": "9f87a3dd",
   "metadata": {},
   "source": [
    "In JS, we can decalre multiple variables at one time and assign them to a member of an array"
   ]
  },
  {
   "cell_type": "code",
   "execution_count": null,
   "id": "f6e9f2ac",
   "metadata": {},
   "outputs": [
    {
     "name": "stdout",
     "output_type": "stream",
     "text": [
      "Taylor Swift\n",
      "Harry Styles\n",
      "Beyonce\n",
      "Billie Eilish\n"
     ]
    }
   ],
   "source": [
    "let [tswift, harry, beyonce, billie] = people;\n",
    "\n",
    "console.log(tswift);\n",
    "console.log(harry);\n",
    "console.log(beyonce);\n",
    "console.log(billie);"
   ]
  },
  {
   "cell_type": "markdown",
   "id": "ca20304b",
   "metadata": {},
   "source": [
    "#### Using the Rest Operator `...`\n",
    "<a id=\"rest\"></a>\n"
   ]
  },
  {
   "cell_type": "markdown",
   "id": "32908e86",
   "metadata": {},
   "source": [
    "Sometimes, we don't want to store every member of the list into a variable and just want to store what we didn't pull out into a seperate variable. This can be achieved using the Rest operator `...`"
   ]
  },
  {
   "cell_type": "code",
   "execution_count": null,
   "id": "ab7ff6af",
   "metadata": {
    "scrolled": true
   },
   "outputs": [
    {
     "name": "stdout",
     "output_type": "stream",
     "text": [
      "Taylor Swift\n",
      "Harry Styles\n",
      "[ 'Beyonce', 'Billie Eilish' ]\n"
     ]
    }
   ],
   "source": [
    "let [tswift3, harry3, ...others] = people;\n",
    "console.log(tswift3);\n",
    "console.log(harry3);\n",
    "\n",
    "console.log(others);"
   ]
  },
  {
   "cell_type": "markdown",
   "id": "f0a1db67",
   "metadata": {},
   "source": [
    "#### .unshift Method"
   ]
  },
  {
   "cell_type": "markdown",
   "id": "4f3d2f80",
   "metadata": {},
   "source": [
    "We can add to the beginning of an array using unshift."
   ]
  },
  {
   "cell_type": "code",
   "execution_count": null,
   "id": "349d5c6b",
   "metadata": {},
   "outputs": [
    {
     "name": "stdout",
     "output_type": "stream",
     "text": [
      "5\n",
      "[\n",
      "  'Olivia Rodrigo',\n",
      "  'Taylor Swift',\n",
      "  'Harry Styles',\n",
      "  'Beyonce',\n",
      "  'Billie Eilish'\n",
      "]\n"
     ]
    }
   ],
   "source": [
    "// length of the array\n",
    "console.log(people.unshift('Olivia Rodrigo'));\n",
    "console.log(people);"
   ]
  },
  {
   "cell_type": "markdown",
   "id": "fbb11a25",
   "metadata": {},
   "source": [
    "#### .shift Method"
   ]
  },
  {
   "cell_type": "markdown",
   "id": "5f0bd10d",
   "metadata": {},
   "source": [
    "We can remove from the beginning of an array using shift, which also returns us the removed member of the array"
   ]
  },
  {
   "cell_type": "code",
   "execution_count": null,
   "id": "e02ce468",
   "metadata": {},
   "outputs": [
    {
     "name": "stdout",
     "output_type": "stream",
     "text": [
      "[ 'Taylor Swift', 'Harry Styles', 'Beyonce', 'Billie Eilish' ]\n",
      "Olivia Rodrigo\n"
     ]
    }
   ],
   "source": [
    "let removedValue2 = people.shift()\n",
    "\n",
    "console.log(people);\n",
    "\n",
    "console.log(removedValue2);"
   ]
  },
  {
   "cell_type": "markdown",
   "id": "200582a6",
   "metadata": {},
   "source": [
    "#### indexOf Method"
   ]
  },
  {
   "cell_type": "markdown",
   "id": "e06cc9de",
   "metadata": {},
   "source": [
    "To find the index of a given member in a list, we can use the indexOf method"
   ]
  },
  {
   "cell_type": "code",
   "execution_count": null,
   "id": "c4cc60e6",
   "metadata": {
    "scrolled": true
   },
   "outputs": [
    {
     "name": "stdout",
     "output_type": "stream",
     "text": [
      "2\n"
     ]
    }
   ],
   "source": [
    "console.log(people.indexOf('Beyonce'));"
   ]
  },
  {
   "cell_type": "code",
   "execution_count": null,
   "id": "ab4c67ea",
   "metadata": {},
   "outputs": [
    {
     "name": "stdout",
     "output_type": "stream",
     "text": [
      "-1\n"
     ]
    }
   ],
   "source": [
    "console.log(people.indexOf('Lady Gaga')) //returns -1 if the member is not in the list"
   ]
  },
  {
   "cell_type": "markdown",
   "id": "48cc4b5e",
   "metadata": {},
   "source": [
    "#### forEach method\n",
    "<a id=\"foreach\"></a>\n"
   ]
  },
  {
   "cell_type": "markdown",
   "id": "157966a9",
   "metadata": {},
   "source": [
    "JS does provide us with for loops, but it also provides us with a forEach method that will loop over an array and executes a callback function for every member of your list.\n",
    "\n",
    "A Callback function is merely a function that you pass to another function to be excuted at another time\n",
    "\n",
    "```\n",
    "array.forEach(callback_function)\n",
    "```\n",
    "\n",
    "the callback function is structured:\n",
    "```\n",
    "(oneMemberOfArray)=>//do something with oneMemberOfArray\n",
    "```\n",
    "\n",
    "<strong>Note</strong>: This Method works out of place leaving the original array unchanged"
   ]
  },
  {
   "cell_type": "code",
   "execution_count": null,
   "id": "f8a82656",
   "metadata": {},
   "outputs": [
    {
     "name": "stdout",
     "output_type": "stream",
     "text": [
      "Taylor Swift has the best live performances.\n",
      "Harry Styles has the best live performances.\n",
      "Beyonce has the best live performances.\n",
      "Billie Eilish has the best live performances.\n"
     ]
    }
   ],
   "source": [
    "people.forEach( (person) => console.log(`${person} has the best live performances.`))"
   ]
  },
  {
   "cell_type": "markdown",
   "id": "4f9f42f8",
   "metadata": {},
   "source": [
    "<strong>Note:</strong> The callback function is:\n",
    "```(aName)=>console.log(aName + \" has the best live performaces\")```\n",
    "and we passed that as an argument to the forEach method\n"
   ]
  },
  {
   "cell_type": "code",
   "execution_count": null,
   "id": "41c14f3b",
   "metadata": {},
   "outputs": [
    {
     "name": "stdout",
     "output_type": "stream",
     "text": [
      "Element: Taylor Swift\n",
      "Index: 0\n",
      "Array: [ 'Taylor Swift', 'Harry Styles', 'Beyonce', 'Billie Eilish' ]\n",
      "\n",
      "\n",
      "Element: Harry Styles\n",
      "Index: 1\n",
      "Array: [ 'Taylor Swift', 'Harry Styles', 'Beyonce', 'Billie Eilish' ]\n",
      "\n",
      "\n",
      "Element: Beyonce\n",
      "Index: 2\n",
      "Array: [ 'Taylor Swift', 'Harry Styles', 'Beyonce', 'Billie Eilish' ]\n",
      "\n",
      "\n",
      "Element: Billie Eilish\n",
      "Index: 3\n",
      "Array: [ 'Taylor Swift', 'Harry Styles', 'Beyonce', 'Billie Eilish' ]\n",
      "\n",
      "\n"
     ]
    }
   ],
   "source": [
    "function callBackFunction(element, index, arr){\n",
    "    console.log('Element:', element);\n",
    "    console.log('Index:', index);\n",
    "    console.log('Array:', arr);\n",
    "    console.log('\\n')\n",
    "    return true\n",
    "}\n",
    "\n",
    "people.forEach(callBackFunction)"
   ]
  },
  {
   "cell_type": "markdown",
   "id": "41ca8048",
   "metadata": {},
   "source": [
    "#### .filter method\n",
    "<a id=\"filter\"></a>\n"
   ]
  },
  {
   "cell_type": "markdown",
   "id": "5c409321",
   "metadata": {},
   "source": [
    "The filter method will iterate over an array and filter out values that return true to the condition provided by the callback funtion.\n",
    "\n",
    "\n",
    "```\n",
    "array.filter(callback_function)\n",
    "```\n",
    "\n",
    "the callback function is structured:\n",
    "```\n",
    "(oneMemberOfArray)=>//Boolean evaluation to that evaluates to true for         oneMemberOfArray that should be retained\n",
    "```\n",
    "\n",
    "<strong>Note</strong>: This Method works out of place leaving the original array unchanged"
   ]
  },
  {
   "cell_type": "code",
   "execution_count": null,
   "id": "75ec6258",
   "metadata": {},
   "outputs": [
    {
     "data": {
      "text/plain": [
       "[ 'Beyonce', 'Billie Eilish' ]"
      ]
     },
     "execution_count": 119,
     "metadata": {},
     "output_type": "execute_result"
    }
   ],
   "source": [
    "// Let's filter our array of people to only include people whose name start with b\n",
    "\n",
    "people.filter( (person) => person[0].toUpperCase() === 'B' )"
   ]
  },
  {
   "cell_type": "code",
   "execution_count": null,
   "id": "fc8c0015",
   "metadata": {},
   "outputs": [
    {
     "data": {
      "text/plain": [
       "[ 'Taylor Swift', 'Beyonce' ]"
      ]
     },
     "execution_count": 120,
     "metadata": {},
     "output_type": "execute_result"
    }
   ],
   "source": [
    "function callbackFilter(e, i, a){\n",
    "    return i % 2 === 0\n",
    "}\n",
    "\n",
    "people.filter(callbackFilter)"
   ]
  },
  {
   "cell_type": "code",
   "execution_count": null,
   "id": "625f0963",
   "metadata": {},
   "outputs": [
    {
     "name": "stdout",
     "output_type": "stream",
     "text": [
      "[ 'Taylor Swift', 'Harry Styles', 'Beyonce', 'Billie Eilish' ]\n"
     ]
    }
   ],
   "source": [
    "console.log(people)"
   ]
  },
  {
   "cell_type": "markdown",
   "id": "11b03010",
   "metadata": {},
   "source": [
    "#### .map method\n",
    "<a id=\"map\"></a>\n"
   ]
  },
  {
   "cell_type": "markdown",
   "id": "56bf6f19",
   "metadata": {},
   "source": [
    "The map method will iterate over an array and run a function on every element of the array and store the functions returned value into the new array.\n",
    "\n",
    "```\n",
    "array.map(callback_function)\n",
    "```\n",
    "\n",
    "the callback function is structured:\n",
    "```\n",
    "(oneMemberOfArray)=>//manipuate oneMemberOfArray\n",
    "```\n",
    "<strong>Note:</strong> This Method works out of place leaving the original array unchanged"
   ]
  },
  {
   "cell_type": "code",
   "execution_count": null,
   "id": "645549d0",
   "metadata": {},
   "outputs": [
    {
     "data": {
      "text/plain": [
       "[ 'TAYLOR SWIFT', 'HARRY STYLES', 'BEYONCE', 'BILLIE EILISH' ]"
      ]
     },
     "execution_count": 122,
     "metadata": {},
     "output_type": "execute_result"
    }
   ],
   "source": [
    "//Lets capitalize every member of our array\n",
    "people.map( (person) => person.toUpperCase() )"
   ]
  },
  {
   "cell_type": "code",
   "execution_count": null,
   "id": "049b11db",
   "metadata": {},
   "outputs": [
    {
     "data": {
      "text/plain": [
       "[ 'Taylor Swift0', 'Harry Styles1', 'Beyonce2', 'Billie Eilish3' ]"
      ]
     },
     "execution_count": 123,
     "metadata": {},
     "output_type": "execute_result"
    }
   ],
   "source": [
    "function callbackMap(el, ind, arr){\n",
    "    return el + ind\n",
    "}\n",
    "\n",
    "people.map(callbackMap);"
   ]
  },
  {
   "cell_type": "markdown",
   "id": "b076bef4",
   "metadata": {},
   "source": [
    "#### .reduce method\n",
    "<a id=\"reduce\"></a>\n"
   ]
  },
  {
   "cell_type": "markdown",
   "id": "44caf264",
   "metadata": {},
   "source": [
    "The reduce method will iterate over an array and run a reducer function against every member of the array.  This result will end up not with a new array but one value formed by all members of the array\n",
    "\n",
    "A Callback function is merely a function that you pass to another function to be excuted at another time\n",
    "\n",
    "```\n",
    "array.reduce(callback_function)\n",
    "```\n",
    "\n",
    "the callback function is structured:\n",
    "the aggregator represents all the combinations you have completed and the next item is the next item in the array that you want to combine into the aggregator.  The function body is where you define how the aggregator and the next item should be combined.\n",
    "```\n",
    "(aggregator, nextItem)=>//combine the aggregator with the nextItem in a desired way\n",
    "```\n",
    "<strong>Note:</strong> This Method works out of place leaving the original array unchanged"
   ]
  },
  {
   "cell_type": "code",
   "execution_count": null,
   "id": "46a3ad55",
   "metadata": {},
   "outputs": [
    {
     "data": {
      "text/plain": [
       "'Taylor Swift, Harry Styles, Beyonce, Billie Eilish'"
      ]
     },
     "execution_count": 124,
     "metadata": {},
     "output_type": "execute_result"
    }
   ],
   "source": [
    "// Lets turn our list of names into a comma delimited string\n",
    "people.reduce( (aggregatedString, nextPerson) => aggregatedString += `, ${nextPerson}` )"
   ]
  },
  {
   "cell_type": "code",
   "execution_count": null,
   "id": "521bed46",
   "metadata": {},
   "outputs": [
    {
     "data": {
      "text/plain": [
       "46"
      ]
     },
     "execution_count": 125,
     "metadata": {},
     "output_type": "execute_result"
    }
   ],
   "source": [
    "let numbers = [2, 4, 7, 9, 3, 2, 4, 7, 8]\n",
    "\n",
    "numbers.reduce( (agg, nextNum) => agg += nextNum )"
   ]
  },
  {
   "cell_type": "markdown",
   "id": "43a16941",
   "metadata": {},
   "source": [
    "#### .toString method"
   ]
  },
  {
   "cell_type": "markdown",
   "id": "31314812",
   "metadata": {},
   "source": [
    "This method will create a string based on your array seperated with commas but no spaces"
   ]
  },
  {
   "cell_type": "code",
   "execution_count": null,
   "id": "89d13284",
   "metadata": {},
   "outputs": [
    {
     "data": {
      "text/plain": [
       "'Taylor Swift,Harry Styles,Beyonce,Billie Eilish'"
      ]
     },
     "execution_count": 126,
     "metadata": {},
     "output_type": "execute_result"
    }
   ],
   "source": [
    "people.toString()"
   ]
  },
  {
   "cell_type": "markdown",
   "id": "0126702a",
   "metadata": {},
   "source": [
    "#### .join Method"
   ]
  },
  {
   "cell_type": "markdown",
   "id": "9122c7c3",
   "metadata": {},
   "source": [
    "This method will concatenate the members of the array with a given string.\n",
    "\n",
    "```\n",
    "array.join(string_to_join_on)\n",
    "```"
   ]
  },
  {
   "cell_type": "code",
   "execution_count": null,
   "id": "7b2799cc",
   "metadata": {},
   "outputs": [
    {
     "data": {
      "text/plain": [
       "'Taylor Swift--.--Harry Styles--.--Beyonce--.--Billie Eilish'"
      ]
     },
     "execution_count": 127,
     "metadata": {},
     "output_type": "execute_result"
    }
   ],
   "source": [
    "people.join('--.--') \n",
    "//returns a string type"
   ]
  },
  {
   "cell_type": "markdown",
   "id": "2bb01562",
   "metadata": {},
   "source": [
    "#### List Slicing"
   ]
  },
  {
   "cell_type": "markdown",
   "id": "12140438",
   "metadata": {},
   "source": [
    "In Python, we can slice a list by doing something like `my_list[2:4]`\n",
    "In JavaScript, we use the .slice method; it looks like:\n",
    "`myArray.slice(2,4)`\n",
    "This is an out of place function"
   ]
  },
  {
   "cell_type": "code",
   "execution_count": null,
   "id": "4f7604b4",
   "metadata": {},
   "outputs": [
    {
     "data": {
      "text/plain": [
       "[ 'Harry Styles', 'Beyonce' ]"
      ]
     },
     "execution_count": 128,
     "metadata": {},
     "output_type": "execute_result"
    }
   ],
   "source": [
    "people.slice(1, 3)"
   ]
  },
  {
   "cell_type": "code",
   "execution_count": null,
   "id": "9afce91c",
   "metadata": {},
   "outputs": [
    {
     "name": "stdout",
     "output_type": "stream",
     "text": [
      "[\n",
      "  2, 4, 7, 9, 3,\n",
      "  2, 4, 7, 8\n",
      "]\n"
     ]
    }
   ],
   "source": [
    "console.log(numbers)"
   ]
  },
  {
   "cell_type": "code",
   "execution_count": null,
   "id": "ef494263",
   "metadata": {},
   "outputs": [
    {
     "data": {
      "text/plain": [
       "[ 7, 9, 3, 2, 4 ]"
      ]
     },
     "execution_count": 130,
     "metadata": {},
     "output_type": "execute_result"
    }
   ],
   "source": [
    "numbers.slice(2, -2)"
   ]
  },
  {
   "cell_type": "code",
   "execution_count": null,
   "id": "ffe15e8a",
   "metadata": {},
   "outputs": [
    {
     "data": {
      "text/plain": [
       "[ 9, 3, 2, 4, 7, 8 ]"
      ]
     },
     "execution_count": 131,
     "metadata": {},
     "output_type": "execute_result"
    }
   ],
   "source": [
    "numbers.slice(3)"
   ]
  },
  {
   "cell_type": "markdown",
   "id": "c152dd0c",
   "metadata": {},
   "source": [
    "#### List Splicing"
   ]
  },
  {
   "cell_type": "markdown",
   "id": "cb4fa239",
   "metadata": {},
   "source": [
    "JS gives use the ability to replace consective members of an array with other values using the `.splice` method\n",
    "\n",
    "```\n",
    "array.splice(start_index,delete count, items)\n",
    "```\n",
    "This method works IN-place"
   ]
  },
  {
   "cell_type": "markdown",
   "id": "a6dc56f0",
   "metadata": {},
   "source": [
    "##### Inserting an item"
   ]
  },
  {
   "cell_type": "code",
   "execution_count": null,
   "id": "552cc27f",
   "metadata": {},
   "outputs": [
    {
     "name": "stdout",
     "output_type": "stream",
     "text": [
      "[ 'Taylor Swift', 'Harry Styles', 'Beyonce', 'Billie Eilish' ]\n"
     ]
    }
   ],
   "source": [
    "console.log(people)"
   ]
  },
  {
   "cell_type": "code",
   "execution_count": null,
   "id": "3dbae671",
   "metadata": {},
   "outputs": [
    {
     "name": "stdout",
     "output_type": "stream",
     "text": [
      "[\n",
      "  'Taylor Swift',\n",
      "  'Ariana Grande',\n",
      "  'Harry Styles',\n",
      "  'Beyonce',\n",
      "  'Billie Eilish'\n",
      "]\n",
      "[]\n"
     ]
    }
   ],
   "source": [
    "// We want to add Ariana Grande after TSwift and before Harry Styles\n",
    "// So we use the start index of 1 because we want Ariana in the 1st index\n",
    "// We choose to delete 0 members of the list because we only want to insert Ariana\n",
    "// Then we add in the name we want to add to the list\n",
    "let deletedValues = people.splice(1, 0, 'Ariana Grande');\n",
    "console.log(people);\n",
    "console.log(deletedValues);\n",
    "// Note: the Method returns an empty array"
   ]
  },
  {
   "cell_type": "code",
   "execution_count": null,
   "id": "e8ce0cee",
   "metadata": {
    "scrolled": true
   },
   "outputs": [
    {
     "name": "stdout",
     "output_type": "stream",
     "text": [
      "[\n",
      "  'Taylor Swift',\n",
      "  'Ariana Grande',\n",
      "  'Harry Styles',\n",
      "  'Beyonce',\n",
      "  'Billie Eilish'\n",
      "]\n"
     ]
    }
   ],
   "source": [
    "// This works in place so it changed the original list and did not create a new list\n",
    "console.log(people);"
   ]
  },
  {
   "cell_type": "markdown",
   "id": "5179ab6e",
   "metadata": {},
   "source": [
    "##### Inserting and Removing an item"
   ]
  },
  {
   "cell_type": "code",
   "execution_count": null,
   "id": "9a35712a",
   "metadata": {},
   "outputs": [
    {
     "name": "stdout",
     "output_type": "stream",
     "text": [
      "[ 'Taylor Swift', 'Latto', 'Harry Styles', 'Beyonce', 'Billie Eilish' ]\n",
      "[ 'Ariana Grande' ]\n"
     ]
    }
   ],
   "source": [
    "// We now want to remove Ariana Grande as she has become old news and replace her with Latto \n",
    "// We will start at position 1 again because we want Latto at position one\n",
    "// We will set the delete count to 1 to remove one entry after are insert (deletes Ariana)\n",
    "// And the item we want to add will be Latto \n",
    "\n",
    "let deletedValues2 = people.splice(1, 1, 'Latto')\n",
    "console.log(people);\n",
    "console.log(deletedValues2);"
   ]
  },
  {
   "cell_type": "markdown",
   "id": "f9f9adeb",
   "metadata": {},
   "source": [
    "##### Inserting and Removing multiple items"
   ]
  },
  {
   "cell_type": "code",
   "execution_count": null,
   "id": "526beb31",
   "metadata": {},
   "outputs": [
    {
     "name": "stdout",
     "output_type": "stream",
     "text": [
      "[\n",
      "  'Taylor Swift',\n",
      "  'Latto',\n",
      "  'Nomfundo Moh',\n",
      "  'Uncle Waffles',\n",
      "  'Billie Eilish'\n",
      "]\n",
      "[ 'Harry Styles', 'Beyonce' ]\n"
     ]
    }
   ],
   "source": [
    "// Let's remove Harry Styles and Beyonce and replace them with Nomfundo Moh and Uncle Waffles\n",
    "// Position will be 2 to add in where Harry is currently\n",
    "// Delete count will be 2 to delete Harry and Beyonce\n",
    "// The items will be Nomfundo Moh and Uncle Waffles\n",
    "\n",
    "let delVals = people.splice(2, 2, 'Nomfundo Moh', 'Uncle Waffles')\n",
    "console.log(people);\n",
    "console.log(delVals);"
   ]
  },
  {
   "cell_type": "code",
   "execution_count": null,
   "id": "57b37270",
   "metadata": {},
   "outputs": [
    {
     "data": {
      "text/plain": [
       "[]"
      ]
     },
     "execution_count": 137,
     "metadata": {},
     "output_type": "execute_result"
    }
   ],
   "source": [
    "// Insert Olivia and Ariana after Nomfundo\n",
    "\n",
    "people.splice(3, 0, 'Ariana Grande', 'Olivia Rodrigo')"
   ]
  },
  {
   "cell_type": "code",
   "execution_count": null,
   "id": "019cba4a",
   "metadata": {},
   "outputs": [
    {
     "name": "stdout",
     "output_type": "stream",
     "text": [
      "[\n",
      "  'Taylor Swift',\n",
      "  'Latto',\n",
      "  'Nomfundo Moh',\n",
      "  'Ariana Grande',\n",
      "  'Olivia Rodrigo',\n",
      "  'Uncle Waffles',\n",
      "  'Billie Eilish'\n",
      "]\n"
     ]
    }
   ],
   "source": [
    "console.log(people)"
   ]
  },
  {
   "cell_type": "markdown",
   "id": "33cdf142",
   "metadata": {},
   "source": [
    "### In Class Exercise #3\n",
    "<a id=\"ice3\"></a>\n"
   ]
  },
  {
   "cell_type": "markdown",
   "id": "da610571",
   "metadata": {},
   "source": [
    "In the Code Block below make an Array of your favorite foods.  Then using the methods we have learned, add `\"Fried Tarantulas\"` to the end of the array, then add `\"Mokh Mchermel\"` to the front. Then, using a slice of the now modified array, print your original list of favorite foods without my additions."
   ]
  },
  {
   "cell_type": "code",
   "execution_count": null,
   "id": "83755526",
   "metadata": {
    "scrolled": true
   },
   "outputs": [],
   "source": []
  },
  {
   "cell_type": "code",
   "execution_count": null,
   "id": "e0ef8432",
   "metadata": {},
   "outputs": [],
   "source": []
  },
  {
   "cell_type": "markdown",
   "id": "be6074b2",
   "metadata": {},
   "source": [
    "## Functions\n",
    "<a id=\"functions\"></a>\n"
   ]
  },
  {
   "cell_type": "markdown",
   "id": "23981211",
   "metadata": {},
   "source": [
    "There are two styles of functions we use in JavaScript: the traditional JS functions and arrow functions (introduced in ES6) "
   ]
  },
  {
   "cell_type": "markdown",
   "id": "66a98a87",
   "metadata": {},
   "source": [
    "### Regular Functions\n",
    "<a id=\"regfunc\"></a>\n"
   ]
  },
  {
   "cell_type": "markdown",
   "id": "46a20c05",
   "metadata": {},
   "source": [
    "The format of a function is JavaScript is:\n",
    "```\n",
    "function name(parameters){\n",
    "    //do stuff\n",
    "    return\n",
    "}\n",
    "```\n",
    "\n",
    "<strong>Note:</strong> In JavaScript, whitespace isn't important like it is in Python. In Python, we used indentation to create code blocks like the inside of a function, for loop, or if statement.  In JavaScript, we use braces {} to contain our code blocks.\n",
    "Following the Python indentation rules is still considered good practice and should be followed even in JS where the indentation doesn't affect the code execution.  This is to increase readability. "
   ]
  },
  {
   "cell_type": "code",
   "execution_count": null,
   "id": "7813fdb6",
   "metadata": {},
   "outputs": [
    {
     "name": "stdout",
     "output_type": "stream",
     "text": [
      "25\n"
     ]
    }
   ],
   "source": [
    "function addNums(){\n",
    "    let num1 = 10;\n",
    "    let num2 = 15;\n",
    "    return num1 + num2;\n",
    "}\n",
    "\n",
    "console.log(addNums());"
   ]
  },
  {
   "cell_type": "code",
   "execution_count": null,
   "id": "45d3411a",
   "metadata": {},
   "outputs": [
    {
     "name": "stdout",
     "output_type": "stream",
     "text": [
      "[Function: addNums]\n",
      "function\n"
     ]
    }
   ],
   "source": [
    "console.log(addNums);\n",
    "console.log(typeof addNums);"
   ]
  },
  {
   "cell_type": "markdown",
   "id": "b4f55400",
   "metadata": {},
   "source": [
    "#### Using Parameters"
   ]
  },
  {
   "cell_type": "code",
   "execution_count": null,
   "id": "ee733da7",
   "metadata": {},
   "outputs": [
    {
     "name": "stdout",
     "output_type": "stream",
     "text": [
      "[Function: addNums2]\n",
      "33\n"
     ]
    }
   ],
   "source": [
    "function addNums2(num1, num2){\n",
    "    return num1 + num2;\n",
    "};\n",
    "\n",
    "console.log(addNums2);\n",
    "console.log(addNums2(5, 28));"
   ]
  },
  {
   "cell_type": "markdown",
   "id": "95e0f380",
   "metadata": {},
   "source": [
    "<strong>Note:</strong> JS will not require all parameters to be passed to let your function execute. This can cause undesired results"
   ]
  },
  {
   "cell_type": "code",
   "execution_count": null,
   "id": "cdb2fa4d",
   "metadata": {
    "scrolled": true
   },
   "outputs": [
    {
     "name": "stdout",
     "output_type": "stream",
     "text": [
      "NaN\n"
     ]
    }
   ],
   "source": [
    "console.log(addNums2(11));"
   ]
  },
  {
   "cell_type": "code",
   "execution_count": null,
   "id": "5d2c9e3d",
   "metadata": {},
   "outputs": [
    {
     "name": "stdout",
     "output_type": "stream",
     "text": [
      "A is: 10\n",
      "B is: undefined\n"
     ]
    }
   ],
   "source": [
    "function logVars(a, b){\n",
    "    console.log('A is:', a);\n",
    "    console.log('B is:', b);\n",
    "}\n",
    "\n",
    "logVars(10)"
   ]
  },
  {
   "cell_type": "markdown",
   "id": "61390759",
   "metadata": {},
   "source": [
    "<strong>Note:</strong> Keyword arguments in JS Do Not Work.  \n",
    "\n",
    "We will show you how optional and named parameters work in JS later on by passing objects and using object destructuring."
   ]
  },
  {
   "cell_type": "code",
   "execution_count": null,
   "id": "ec2ede27",
   "metadata": {
    "scrolled": false
   },
   "outputs": [
    {
     "name": "stdout",
     "output_type": "stream",
     "text": [
      "A is: 123\n",
      "B is: 456\n"
     ]
    }
   ],
   "source": [
    " //Doesn't work\n",
    "\n",
    "logVars(b=123, a=456)"
   ]
  },
  {
   "cell_type": "markdown",
   "id": "1ec1626f",
   "metadata": {},
   "source": [
    "### In Class Exercise #4\n",
    "<a id=\"ice4\"></a>\n"
   ]
  },
  {
   "cell_type": "markdown",
   "id": "9f6c7e94",
   "metadata": {},
   "source": [
    "In the cell provided, create a JS Function that takes a first name and last name and returns a String that says Hello first name last name.\n",
    "The input would be something like:\n",
    "\n",
    "```\"Bo\", \"Jackson\"```\n",
    "\n",
    "and the output would be:\n",
    "\n",
    "```\"Hello Bo Jackson\"```"
   ]
  },
  {
   "cell_type": "code",
   "execution_count": null,
   "id": "9ca3e529",
   "metadata": {},
   "outputs": [],
   "source": []
  },
  {
   "cell_type": "markdown",
   "id": "fefde374",
   "metadata": {},
   "source": [
    "### Arrow Functions\n",
    "<a id=\"arrowfunc\"></a>\n"
   ]
  },
  {
   "cell_type": "markdown",
   "id": "1b4fc022",
   "metadata": {},
   "source": [
    "Arrow Functions were introduced in ES 6\n",
    "\n",
    "They vary from regular functions in the way they handle the keyword `this` and `new` (more on that down the road)\n",
    "\n",
    "The syntax looks like this:\n",
    "\n",
    "```\n",
    "const functionName = (parameter1, parameter2) =>{\n",
    "    //do stuff\n",
    "    return\n",
    "}\n",
    "```\n",
    "\n",
    "if you only have one parameter, you can drop the parentheses:\n",
    "\n",
    "```\n",
    "const functionName = parameter1 =>{\n",
    "    //do stuff\n",
    "    return\n",
    "}\n",
    "```\n",
    "\n",
    "if you have no parameters if would look like this:\n",
    "\n",
    "```\n",
    "const functionName = () =>{\n",
    "    //do stuff\n",
    "    return\n",
    "}\n",
    "```\n",
    "\n",
    "<strong>Note:</strong> We are using the const keyword to declare our functions, while you can use the let keyword, const is considered good practice. This is because you can't accidently override your function with the const keyword.\n",
    "\n",
    "\n",
    "Another cool shortcut we get with arrow funtions is the ability to omit the return keyword in functions with only one line and still get a value returned. In this case, we also get to omit the function block's braces.\n",
    "\n",
    "If the function body is only one line of code (does not contain a newline or semicolon) then the line of code in the function will also be returned as its value.\n",
    "```\n",
    "const functionName = () => returnedValue\n",
    "```\n"
   ]
  },
  {
   "cell_type": "code",
   "execution_count": null,
   "id": "97070ac7",
   "metadata": {},
   "outputs": [],
   "source": [
    "let doesNothing;"
   ]
  },
  {
   "cell_type": "code",
   "execution_count": null,
   "id": "f3b31ac6",
   "metadata": {},
   "outputs": [
    {
     "name": "stdout",
     "output_type": "stream",
     "text": [
      "[Function: doesNothing]\n",
      "function\n"
     ]
    }
   ],
   "source": [
    "// The most basic arrow function\n",
    "\n",
    "doesNothing = () => {}\n",
    "\n",
    "console.log(doesNothing);\n",
    "console.log(typeof doesNothing);"
   ]
  },
  {
   "cell_type": "markdown",
   "id": "e372b694",
   "metadata": {},
   "source": [
    "##### Implicit Return"
   ]
  },
  {
   "cell_type": "code",
   "execution_count": null,
   "id": "d7ff4f1e",
   "metadata": {
    "scrolled": true
   },
   "outputs": [
    {
     "name": "stdout",
     "output_type": "stream",
     "text": [
      "[Function: addNums3]\n",
      "function\n"
     ]
    }
   ],
   "source": [
    "const addNums3 = (num1, num2) => num1 + num2\n",
    "\n",
    "console.log(addNums3);\n",
    "console.log(typeof addNums3);"
   ]
  },
  {
   "cell_type": "code",
   "execution_count": null,
   "id": "0568abad",
   "metadata": {},
   "outputs": [
    {
     "data": {
      "text/plain": [
       "10"
      ]
     },
     "execution_count": 148,
     "metadata": {},
     "output_type": "execute_result"
    }
   ],
   "source": [
    "addNums3(4, 6)"
   ]
  },
  {
   "cell_type": "code",
   "execution_count": null,
   "id": "a1747ebb",
   "metadata": {},
   "outputs": [
    {
     "data": {
      "text/plain": [
       "'Hello Bo Jackson'"
      ]
     },
     "execution_count": 149,
     "metadata": {},
     "output_type": "execute_result"
    }
   ],
   "source": [
    "const hello = (firstName, lastName) => `Hello ${firstName} ${lastName}`\n",
    "\n",
    "hello('Bo', 'Jackson')"
   ]
  },
  {
   "cell_type": "markdown",
   "id": "5e0e552d",
   "metadata": {},
   "source": [
    "##### Explicit Return"
   ]
  },
  {
   "cell_type": "code",
   "execution_count": null,
   "id": "0b4fca1f",
   "metadata": {},
   "outputs": [
    {
     "data": {
      "text/plain": [
       "125"
      ]
     },
     "execution_count": 150,
     "metadata": {},
     "output_type": "execute_result"
    }
   ],
   "source": [
    "//Here, we stil have one line inside the function so an implicit return makes more sense\n",
    "const cubed = (num) => {return num ** 3}\n",
    "\n",
    "cubed(5)"
   ]
  },
  {
   "cell_type": "code",
   "execution_count": null,
   "id": "9814f7bd",
   "metadata": {},
   "outputs": [
    {
     "data": {
      "text/plain": [
       "1000"
      ]
     },
     "execution_count": 151,
     "metadata": {},
     "output_type": "execute_result"
    }
   ],
   "source": [
    "cubed(10)"
   ]
  },
  {
   "cell_type": "code",
   "execution_count": null,
   "id": "d51151cc",
   "metadata": {},
   "outputs": [
    {
     "name": "stdout",
     "output_type": "stream",
     "text": [
      "We are cubing 5\n"
     ]
    },
    {
     "data": {
      "text/plain": [
       "125"
      ]
     },
     "execution_count": 152,
     "metadata": {},
     "output_type": "execute_result"
    }
   ],
   "source": [
    "// Here, our function body is multiple lines, so the explicit return is necessary\n",
    "\n",
    "const cubedLogging = (num) => {\n",
    "    console.log('We are cubing', num); \n",
    "    return num ** 3\n",
    "}\n",
    "\n",
    "cubedLogging(5);\n"
   ]
  },
  {
   "cell_type": "code",
   "execution_count": null,
   "id": "d0043dbe",
   "metadata": {},
   "outputs": [
    {
     "name": "stdout",
     "output_type": "stream",
     "text": [
      "We are cubing 7\n"
     ]
    },
    {
     "data": {
      "text/plain": [
       "343"
      ]
     },
     "execution_count": 153,
     "metadata": {},
     "output_type": "execute_result"
    }
   ],
   "source": [
    "cubedLogging(7)"
   ]
  },
  {
   "cell_type": "code",
   "execution_count": null,
   "id": "f738d378",
   "metadata": {},
   "outputs": [
    {
     "data": {
      "text/plain": [
       "8000"
      ]
     },
     "execution_count": 154,
     "metadata": {},
     "output_type": "execute_result"
    }
   ],
   "source": [
    "//With one parameter the parentheses are optional\n",
    "\n",
    "const cubedAgain = num => num**3\n",
    "\n",
    "cubedAgain(20)"
   ]
  },
  {
   "cell_type": "code",
   "execution_count": null,
   "id": "112bfd7c",
   "metadata": {},
   "outputs": [
    {
     "data": {
      "text/plain": [
       "8000"
      ]
     },
     "execution_count": 155,
     "metadata": {},
     "output_type": "execute_result"
    }
   ],
   "source": [
    "// You can still include the parentheses though\n",
    "const cubedAgain2 = (num) => num**3\n",
    "\n",
    "cubedAgain2(20)\n",
    "\n"
   ]
  },
  {
   "cell_type": "code",
   "execution_count": null,
   "id": "b21fcf4f",
   "metadata": {
    "scrolled": true
   },
   "outputs": [
    {
     "data": {
      "text/plain": [
       "81"
      ]
     },
     "execution_count": 156,
     "metadata": {},
     "output_type": "execute_result"
    }
   ],
   "source": [
    "// Multiple parameters require the parentheses\n",
    "\n",
    "const power = (x, y) => x**y\n",
    "\n",
    "power(3, 4)"
   ]
  },
  {
   "cell_type": "markdown",
   "id": "b1ab52ca",
   "metadata": {},
   "source": [
    "### In Class Exercise #5\n",
    "\n",
    "In the cell provided Create an arrow function with no parameters and one line of code that returns the string `\"I am Beautiful\"`\n",
    "<a id=\"ice5\"></a>"
   ]
  },
  {
   "cell_type": "code",
   "execution_count": null,
   "id": "4e3768c4",
   "metadata": {},
   "outputs": [],
   "source": []
  },
  {
   "cell_type": "markdown",
   "id": "de3eb39b",
   "metadata": {},
   "source": [
    "### In Class Exercise #6\n",
    "<a id=\"ice6\"></a>\n",
    "\n",
    "\n",
    "In the cells provided, write me a function using the keyword function and AGAIN as an arrow function that takes in 3 parameters: one of a name, of an age, and a multiplier, and returns a string that says:\n",
    "`If I multiply [PERSON's NAME]'s age by [muiltiplier] I get [age x multiplier]`\n",
    "\n",
    "So if we have `'Steve'` and his age is `20` and the multiplier is `4`, the output will be\n",
    "`\"If I multiply Steve's age by 4 I get 80\"`"
   ]
  },
  {
   "cell_type": "code",
   "execution_count": null,
   "id": "98c6093d",
   "metadata": {},
   "outputs": [],
   "source": [
    "//Traditional Function\n"
   ]
  },
  {
   "cell_type": "code",
   "execution_count": null,
   "id": "f042bc6c",
   "metadata": {},
   "outputs": [],
   "source": [
    "//Arrow Function with implicit return\n",
    "\n"
   ]
  },
  {
   "cell_type": "markdown",
   "id": "e53ef88f",
   "metadata": {},
   "source": [
    "## The Spread Operator `...`\n",
    "<a id=\"spread\"></a>\n"
   ]
  },
  {
   "cell_type": "markdown",
   "id": "3f2d33ba",
   "metadata": {},
   "source": [
    "The spread and the rest operator `...` are the same operators, but the function differently depending on context\n",
    "\n",
    "When used to spread an array it will unpack all the members of an array and can be used to pass them as parameters"
   ]
  },
  {
   "cell_type": "code",
   "execution_count": null,
   "id": "f7278b04",
   "metadata": {},
   "outputs": [
    {
     "name": "stdout",
     "output_type": "stream",
     "text": [
      "1\n",
      "2\n",
      "[\n",
      "  3, 4, 5, 6,\n",
      "  7, 8, 9\n",
      "]\n"
     ]
    }
   ],
   "source": [
    "// As a rest operator\n",
    "\n",
    "let [a, b, ...c] = [1, 2, 3, 4, 5, 6, 7, 8, 9]\n",
    "\n",
    "console.log(a)\n",
    "console.log(b)\n",
    "console.log(c)"
   ]
  },
  {
   "cell_type": "code",
   "execution_count": null,
   "id": "95ebfbe9",
   "metadata": {},
   "outputs": [],
   "source": [
    "// Spread Operator\n",
    "function useSpread(x, y, z){\n",
    "    console.log('x:', x);\n",
    "    console.log('y:', y);\n",
    "    console.log('z:', z);\n",
    "    return x * y + z\n",
    "}\n",
    "\n",
    "let myArr = [2, 4, 6]"
   ]
  },
  {
   "cell_type": "code",
   "execution_count": null,
   "id": "69c50217",
   "metadata": {},
   "outputs": [
    {
     "name": "stdout",
     "output_type": "stream",
     "text": [
      "x: 2\n",
      "y: 4\n",
      "z: 6\n"
     ]
    },
    {
     "data": {
      "text/plain": [
       "14"
      ]
     },
     "execution_count": 161,
     "metadata": {},
     "output_type": "execute_result"
    }
   ],
   "source": [
    "// traditionally we could call the function like this\n",
    "\n",
    "useSpread(2, 4, 6)"
   ]
  },
  {
   "cell_type": "code",
   "execution_count": null,
   "id": "bfdab150",
   "metadata": {},
   "outputs": [
    {
     "name": "stdout",
     "output_type": "stream",
     "text": [
      "x: 2\n",
      "y: 4\n",
      "z: 6\n"
     ]
    },
    {
     "data": {
      "text/plain": [
       "14"
      ]
     },
     "execution_count": 162,
     "metadata": {},
     "output_type": "execute_result"
    }
   ],
   "source": [
    "//or like\n",
    "useSpread(myArr[0], myArr[1], myArr[2])"
   ]
  },
  {
   "cell_type": "code",
   "execution_count": null,
   "id": "b89f6773",
   "metadata": {},
   "outputs": [
    {
     "name": "stdout",
     "output_type": "stream",
     "text": [
      "x: 2\n",
      "y: 4\n",
      "z: 6\n"
     ]
    },
    {
     "data": {
      "text/plain": [
       "14"
      ]
     },
     "execution_count": 163,
     "metadata": {},
     "output_type": "execute_result"
    }
   ],
   "source": [
    "// using the spread operator\n",
    "useSpread(...myArr)"
   ]
  },
  {
   "cell_type": "code",
   "execution_count": null,
   "id": "9287ecbf",
   "metadata": {},
   "outputs": [
    {
     "name": "stdout",
     "output_type": "stream",
     "text": [
      "[ 2, 4, 6 ]\n"
     ]
    }
   ],
   "source": [
    "// Use the spread operator to copy \n",
    "let copySpread = [...myArr];\n",
    "\n",
    "console.log(copySpread)"
   ]
  },
  {
   "cell_type": "code",
   "execution_count": null,
   "id": "0b0f9597",
   "metadata": {},
   "outputs": [
    {
     "name": "stdout",
     "output_type": "stream",
     "text": [
      "[ 2, 4, 6, 'hello' ]\n"
     ]
    }
   ],
   "source": [
    "// Use the spread with other values\n",
    "let spreadPlus = [...myArr, 'hello']\n",
    "\n",
    "console.log(spreadPlus)"
   ]
  },
  {
   "cell_type": "markdown",
   "id": "78bfd49f",
   "metadata": {},
   "source": [
    "## Flow Control\n",
    "<a id=\"flow\"></a>\n"
   ]
  },
  {
   "cell_type": "markdown",
   "id": "ad6dbb2f",
   "metadata": {},
   "source": [
    "### If Statement\n",
    "<a id=\"if\"></a>\n"
   ]
  },
  {
   "cell_type": "markdown",
   "id": "1fad0803",
   "metadata": {},
   "source": [
    "Like most programming languages, JavaScript provide us with the if Statement.\n",
    "We must include our Boolean value or expression inside parentheses.\n",
    "\n",
    "Syntax:\n",
    "```\n",
    "if(aVar==aValue){\n",
    "    //do stuff\n",
    "}else if(aVar==aDifferentValue){\n",
    "    //do stuff\n",
    "}else{\n",
    "    //do stuff\n",
    "}\n",
    "```"
   ]
  },
  {
   "cell_type": "markdown",
   "id": "40e29a25",
   "metadata": {},
   "source": [
    "#### If"
   ]
  },
  {
   "cell_type": "code",
   "execution_count": null,
   "id": "03291b29",
   "metadata": {},
   "outputs": [
    {
     "name": "stdout",
     "output_type": "stream",
     "text": [
      "Congrats on being old enough to vote!\n",
      "You can vote\n",
      "undefined\n"
     ]
    }
   ],
   "source": [
    "function canVote(birthYear){\n",
    "    let age = 2023 - birthYear;\n",
    "    if (age >= 18){\n",
    "        console.log('Congrats on being old enough to vote!');\n",
    "        return 'You can vote';\n",
    "    }\n",
    "}\n",
    "\n",
    "\n",
    "console.log(canVote(2000))\n",
    "console.log(canVote(2020))"
   ]
  },
  {
   "cell_type": "markdown",
   "id": "0ac452e0",
   "metadata": {},
   "source": [
    "#### If/Else"
   ]
  },
  {
   "cell_type": "code",
   "execution_count": null,
   "id": "cdba97f7",
   "metadata": {},
   "outputs": [
    {
     "name": "stdout",
     "output_type": "stream",
     "text": [
      "You can vote\n",
      "Not yet, but you can vote in 15 years\n"
     ]
    }
   ],
   "source": [
    "function canVote2(birthYear){\n",
    "    let age = 2023 - birthYear;\n",
    "    if (age >= 18){\n",
    "        return 'You can vote'\n",
    "    } else {\n",
    "        return `Not yet, but you can vote in ${18-age} years`\n",
    "    }\n",
    "}\n",
    "\n",
    "\n",
    "console.log(canVote2(2000))\n",
    "console.log(canVote2(2020))"
   ]
  },
  {
   "cell_type": "code",
   "execution_count": null,
   "id": "2a821700",
   "metadata": {
    "scrolled": true
   },
   "outputs": [
    {
     "data": {
      "text/plain": [
       "'Minor'"
      ]
     },
     "execution_count": 168,
     "metadata": {},
     "output_type": "execute_result"
    }
   ],
   "source": [
    "function getAgeGroup(birthYear){\n",
    "    let age = 2023 - birthYear;\n",
    "    if (age >= 65){\n",
    "        return 'Senior Citizen'\n",
    "    } else if (age >= 18){\n",
    "        return 'Adult'\n",
    "    } else {\n",
    "        return 'Minor'\n",
    "    }\n",
    "}\n",
    "\n",
    "getAgeGroup(2010)"
   ]
  },
  {
   "cell_type": "code",
   "execution_count": null,
   "id": "e5cfdd20",
   "metadata": {},
   "outputs": [
    {
     "data": {
      "text/plain": [
       "'Zoomer'"
      ]
     },
     "execution_count": 169,
     "metadata": {},
     "output_type": "execute_result"
    }
   ],
   "source": [
    "function getGeneration(birthYear){\n",
    "    if (birthYear >=1946 && birthYear <= 1964){\n",
    "        return 'Boomer'\n",
    "    } else if (birthYear <= 1979){\n",
    "        return 'Gen X'\n",
    "    } else if (birthYear <= 1994){\n",
    "        return 'Millenial'\n",
    "    } else {\n",
    "        return 'Zoomer'\n",
    "    }\n",
    "}\n",
    "\n",
    "\n",
    "getGeneration(1999)"
   ]
  },
  {
   "cell_type": "markdown",
   "id": "7d9690c0",
   "metadata": {},
   "source": [
    "### In Class Exercise #7\n",
    "<a id=\"ice7\"></a>\n"
   ]
  },
  {
   "cell_type": "markdown",
   "id": "aebd7ad1",
   "metadata": {},
   "source": [
    "In the cells provided, create a function that takes in two strings and returns whether they are equal or if they are different. This comparision should be case insensitive.\n",
    "\n",
    "Inputs:\n",
    "`STEVE` `steve`\n",
    "Returns:\n",
    "`STEVE is the same as steve`\n",
    "\n",
    "Inputs:\n",
    "`john` `steve`\n",
    "Returns:\n",
    "`john is not the same as steve`\n",
    "\n"
   ]
  },
  {
   "cell_type": "code",
   "execution_count": null,
   "id": "ae94b898",
   "metadata": {},
   "outputs": [],
   "source": []
  },
  {
   "cell_type": "code",
   "execution_count": null,
   "id": "e11b5169",
   "metadata": {},
   "outputs": [],
   "source": []
  },
  {
   "cell_type": "code",
   "execution_count": null,
   "id": "e6344ca6",
   "metadata": {},
   "outputs": [],
   "source": []
  },
  {
   "cell_type": "code",
   "execution_count": null,
   "id": "68718cf3",
   "metadata": {},
   "outputs": [],
   "source": []
  },
  {
   "cell_type": "markdown",
   "id": "b2dc7251",
   "metadata": {},
   "source": [
    "### Ternary If Statement\n",
    "<a id=\"ternary\"></a>\n"
   ]
  },
  {
   "cell_type": "markdown",
   "id": "d818e7d4",
   "metadata": {},
   "source": [
    "JS also provides us with the Ternary if syntax for writing if statements on one line.\n",
    "\n",
    "This become exteremely important when we work with React\n",
    "\n",
    "syntax:\n",
    "```\n",
    "boolean ? actionIfTrue : actionIfFalse\n",
    "```"
   ]
  },
  {
   "cell_type": "code",
   "execution_count": null,
   "id": "9feb9fcc",
   "metadata": {},
   "outputs": [
    {
     "name": "stdout",
     "output_type": "stream",
     "text": [
      "Goodbye\n"
     ]
    }
   ],
   "source": [
    "let x = 10;\n",
    "let y = 20;\n",
    "\n",
    "let value = (x > y) ? 'Hello' : 'Goodbye'\n",
    "console.log(value);"
   ]
  },
  {
   "cell_type": "code",
   "execution_count": null,
   "id": "37c35968",
   "metadata": {},
   "outputs": [],
   "source": [
    "let birthYear;\n",
    "let ageGroup;"
   ]
  },
  {
   "cell_type": "code",
   "execution_count": null,
   "id": "34d4c59f",
   "metadata": {},
   "outputs": [
    {
     "name": "stdout",
     "output_type": "stream",
     "text": [
      "Senior\n"
     ]
    }
   ],
   "source": [
    "birthYear = 1950;\n",
    "\n",
    "ageGroup = (2023 - birthYear >= 65) ? 'Senior' : 'Adult'\n",
    "\n",
    "console.log(ageGroup)"
   ]
  },
  {
   "cell_type": "code",
   "execution_count": null,
   "id": "891f7c92",
   "metadata": {},
   "outputs": [
    {
     "name": "stdout",
     "output_type": "stream",
     "text": [
      "Millenial\n"
     ]
    }
   ],
   "source": [
    "birthYear = 1985\n",
    "\n",
    "if (birthYear >=1946 && birthYear <= 1964){\n",
    "    console.log('Boomer')\n",
    "} else if (birthYear <= 1979){\n",
    "    console.log('Gen X')\n",
    "} else if (birthYear <= 1994){\n",
    "    console.log('Millenial')\n",
    "} else {\n",
    "    console.log('Zoomer')\n",
    "}"
   ]
  },
  {
   "cell_type": "code",
   "execution_count": null,
   "id": "8d4f5a40",
   "metadata": {},
   "outputs": [],
   "source": [
    "let myGeneration;"
   ]
  },
  {
   "cell_type": "code",
   "execution_count": null,
   "id": "b41cbd77",
   "metadata": {},
   "outputs": [
    {
     "name": "stdout",
     "output_type": "stream",
     "text": [
      "Millenial\n"
     ]
    }
   ],
   "source": [
    "myGeneration = (birthYear <= 1964) ? 'Boomer' : (birthYear <= 1979) ? 'GenX' : (birthYear <= 1994) ? 'Millenial' : 'Zoomer'\n",
    "\n",
    "console.log(myGeneration)"
   ]
  },
  {
   "cell_type": "markdown",
   "id": "beffd29e",
   "metadata": {},
   "source": [
    "### Traditional For Loops\n",
    "<a id=\"loop\"></a>\n"
   ]
  },
  {
   "cell_type": "markdown",
   "id": "8d08d426",
   "metadata": {},
   "source": [
    "The style of the for loop is a bit different than in Python and closer to what you see in languages like C and Java.\n",
    "\n",
    "It is much easier to think of the for loop as a condensed while loop.\n",
    "\n",
    "The syntax is:\n",
    "```\n",
    "   for(aVar=startingNumber; stopCondition; aVarIncrementer){\n",
    "       //do stuff\n",
    "   }\n",
    "```\n",
    "\n",
    "The aVar=startingNumber is starting a counter to control your for loop (generally `i` is used here)\n",
    "\n",
    "The stopCondition is a boolean that describes when to terminate the loop (generally based on the value of `i` (aVar)\n",
    "\n",
    "The aVarIncrementer is to increment the value of aVar after each iteration of the loop"
   ]
  },
  {
   "cell_type": "code",
   "execution_count": null,
   "id": "1876763f",
   "metadata": {
    "scrolled": false
   },
   "outputs": [
    {
     "name": "stdout",
     "output_type": "stream",
     "text": [
      "0\n",
      "1\n",
      "2\n",
      "3\n",
      "4\n",
      "5\n"
     ]
    }
   ],
   "source": [
    "// Simple Example\n",
    "\n",
    "for (let i=0; i <= 5; i++){\n",
    "    console.log(i)\n",
    "};"
   ]
  },
  {
   "cell_type": "markdown",
   "id": "52a9c800",
   "metadata": {},
   "source": [
    "<strong>Note:</strong> Above, we started i as 0 and then after every loop we do i++ which increments i by one\n",
    "\n",
    "The boolean condition in the middle says to run this loop until i reaches 5"
   ]
  },
  {
   "cell_type": "code",
   "execution_count": null,
   "id": "a4c10564",
   "metadata": {},
   "outputs": [
    {
     "name": "stdout",
     "output_type": "stream",
     "text": [
      "0\n",
      "10\n",
      "20\n",
      "30\n",
      "40\n",
      "50\n",
      "60\n",
      "70\n",
      "80\n",
      "90\n",
      "100\n"
     ]
    }
   ],
   "source": [
    "for (let j=0; j <=100; j+=10){\n",
    "    console.log(j)\n",
    "}"
   ]
  },
  {
   "cell_type": "code",
   "execution_count": null,
   "id": "b924c597",
   "metadata": {},
   "outputs": [
    {
     "name": "stdout",
     "output_type": "stream",
     "text": [
      "10\n",
      "9\n",
      "8\n",
      "7\n",
      "6\n",
      "5\n",
      "4\n",
      "3\n",
      "2\n",
      "1\n"
     ]
    }
   ],
   "source": [
    "for (let k=10; k>0; k--){\n",
    "    console.log(k)\n",
    "}"
   ]
  },
  {
   "cell_type": "markdown",
   "id": "27c25aa0",
   "metadata": {},
   "source": [
    "#### For loop with an array"
   ]
  },
  {
   "cell_type": "markdown",
   "id": "0b2308ea",
   "metadata": {},
   "source": [
    "We will now loop over an array\n",
    "\n",
    "Since array indexing starts at zero we will start with i=0\n",
    "\n",
    "Since we want to print out every member of the array, we will use i++ as our incrementer\n",
    "\n",
    "And we want to loop over the entirety of the array, so we will make our stop condition i < length of the list "
   ]
  },
  {
   "cell_type": "code",
   "execution_count": null,
   "id": "05440ffe",
   "metadata": {},
   "outputs": [],
   "source": [
    "let letterList=[\"a\",\"b\",\"c\",\"d\"]"
   ]
  },
  {
   "cell_type": "code",
   "execution_count": null,
   "id": "6f51382d",
   "metadata": {},
   "outputs": [
    {
     "name": "stdout",
     "output_type": "stream",
     "text": [
      "0 a\n",
      "1 b\n",
      "2 c\n",
      "3 d\n"
     ]
    }
   ],
   "source": [
    "for (let i=0; i < letterList.length; i++){\n",
    "    console.log(i, letterList[i])\n",
    "}"
   ]
  },
  {
   "cell_type": "markdown",
   "id": "ef5fb38d",
   "metadata": {},
   "source": [
    "#### Decrementing For Loop"
   ]
  },
  {
   "cell_type": "markdown",
   "id": "879440ed",
   "metadata": {},
   "source": [
    "Now lets try looping through our array backwards\n",
    "\n",
    "We want to now start at the end of the array, so we will start at the length of the array -1 (minus 1 because the last index is one less than the length)\n",
    "\n",
    "We want to step backwards from the end of the list. We will decrement i once each loop, so our incrementer will be i--\n",
    "\n",
    "Then we want to stop when we reached the last index which would be 0 so our boolean will be i>=0"
   ]
  },
  {
   "cell_type": "code",
   "execution_count": null,
   "id": "c72f39ee",
   "metadata": {},
   "outputs": [
    {
     "name": "stdout",
     "output_type": "stream",
     "text": [
      "3 d\n",
      "2 c\n",
      "1 b\n",
      "0 a\n"
     ]
    }
   ],
   "source": [
    "for (let i=letterList.length-1; i >= 0; i--){\n",
    "    console.log(i, letterList[i])\n",
    "}\n",
    "\n",
    "\n"
   ]
  },
  {
   "cell_type": "markdown",
   "id": "519a685a",
   "metadata": {},
   "source": [
    "#### Skipping Increments"
   ]
  },
  {
   "cell_type": "markdown",
   "id": "55c2e2a1",
   "metadata": {},
   "source": [
    "Now lets just print out the odd indices of our list"
   ]
  },
  {
   "cell_type": "code",
   "execution_count": null,
   "id": "f12f1bc7",
   "metadata": {
    "scrolled": true
   },
   "outputs": [
    {
     "name": "stdout",
     "output_type": "stream",
     "text": [
      "1 b\n",
      "3 d\n"
     ]
    }
   ],
   "source": [
    "\n",
    "for (let i=1; i < letterList.length; i+=2){\n",
    "    console.log(i, letterList[i])\n",
    "}\n",
    "\n"
   ]
  },
  {
   "cell_type": "markdown",
   "id": "4d26a9e1",
   "metadata": {},
   "source": [
    "### In Class Exercise #8\n",
    "<a id=\"ice8\"></a>\n"
   ]
  },
  {
   "cell_type": "markdown",
   "id": "d0d98c52",
   "metadata": {},
   "source": [
    "In the cell provided, create a list of 9 of your favorite candies, and loop over that list printing every 3 members of the list, (so items at indices 2, 5 and 8).\n",
    "\n",
    "Input\n",
    "\n",
    "```[\"Snikers\",\"Take 5\",\"Whatchamacallit\",\"Twix\",\"Sprees\",\"Sweetarts\",\"Runts\",\"Haribo Gummy Bears\",\"Sour Patch Kids\"]```\n",
    "\n",
    "Expected output:\n",
    "\n",
    "```\n",
    "Whatchamacallit\n",
    "Sweetarts\n",
    "Sour Patch Kids```"
   ]
  },
  {
   "cell_type": "code",
   "execution_count": null,
   "id": "c7f4dd5d",
   "metadata": {},
   "outputs": [
    {
     "data": {
      "text/plain": [
       "[\n",
       "  'Snikers',\n",
       "  'Take 5',\n",
       "  'Whatchamacallit',\n",
       "  'Twix',\n",
       "  'Sprees',\n",
       "  'Sweetarts',\n",
       "  'Runts',\n",
       "  'Haribo Gummy Bears',\n",
       "  'Sour Patch Kids'\n",
       "]"
      ]
     },
     "execution_count": 183,
     "metadata": {},
     "output_type": "execute_result"
    }
   ],
   "source": [
    "candies = [\"Snikers\",\"Take 5\",\"Whatchamacallit\",\"Twix\",\"Sprees\",\"Sweetarts\",\"Runts\",\"Haribo Gummy Bears\",\"Sour Patch Kids\"]\n"
   ]
  },
  {
   "cell_type": "code",
   "execution_count": null,
   "id": "5e6b88ce",
   "metadata": {},
   "outputs": [],
   "source": []
  },
  {
   "cell_type": "markdown",
   "id": "31f60c21",
   "metadata": {},
   "source": [
    "### For Of Loops\n",
    "<a id=\"forof\"><a>"
   ]
  },
  {
   "cell_type": "markdown",
   "id": "f201fac9",
   "metadata": {},
   "source": [
    "JS introduced for of loops in ES6, and they provide a simple way to loop over a list\n",
    "\n",
    "<strong>BE CAREFUL!</strong> this is similar to the `for in` loop in python, but it is `for of`!\n",
    "\n",
    "`for in` is a different loop in JS that loops over Object (more on that later)\n",
    "\n",
    "Syntax:\n",
    "\n",
    "```\n",
    "for( let placeholder of arrayVar){\n",
    "    //do stuff\n",
    "}\n",
    "```"
   ]
  },
  {
   "cell_type": "code",
   "execution_count": null,
   "id": "31734e2e",
   "metadata": {},
   "outputs": [
    {
     "name": "stdout",
     "output_type": "stream",
     "text": [
      "a\n",
      "b\n",
      "c\n",
      "d\n"
     ]
    }
   ],
   "source": [
    "for(let letter of letterList){\n",
    "    console.log(letter)\n",
    "}"
   ]
  },
  {
   "cell_type": "code",
   "execution_count": null,
   "id": "452accb1",
   "metadata": {},
   "outputs": [
    {
     "name": "stdout",
     "output_type": "stream",
     "text": [
      "red\n",
      "orange\n",
      "yellow\n",
      "green\n",
      "blue\n",
      "indigo\n",
      "violet\n"
     ]
    }
   ],
   "source": [
    "let colors = ['red', 'orange', 'yellow', 'green', 'blue', 'indigo', 'violet']\n",
    "\n",
    "for (let c of colors){\n",
    "    console.log(c)\n",
    "}"
   ]
  },
  {
   "cell_type": "code",
   "execution_count": null,
   "id": "0ac1017b",
   "metadata": {},
   "outputs": [
    {
     "name": "stdout",
     "output_type": "stream",
     "text": [
      "0\n",
      "1\n",
      "2\n",
      "3\n",
      "4\n",
      "5\n",
      "6\n"
     ]
    }
   ],
   "source": [
    "// The for...in will loop over an Object's properties\n",
    "// an Array is a special type of object where the indices are the properties\n",
    "\n",
    "for (let c in colors){\n",
    "    console.log(c)\n",
    "}"
   ]
  },
  {
   "cell_type": "code",
   "execution_count": null,
   "id": "70e0099b",
   "metadata": {
    "scrolled": true
   },
   "outputs": [
    {
     "name": "stdout",
     "output_type": "stream",
     "text": [
      "T\n",
      "h\n",
      "e\n",
      " \n",
      "q\n",
      "u\n",
      "i\n",
      "c\n",
      "k\n",
      " \n",
      "b\n",
      "r\n",
      "o\n",
      "w\n",
      "n\n",
      " \n",
      "f\n",
      "o\n",
      "x\n",
      " \n",
      "j\n",
      "u\n",
      "m\n",
      "p\n",
      "s\n",
      " \n",
      "o\n",
      "v\n",
      "e\n",
      "r\n",
      " \n",
      "t\n",
      "h\n",
      "e\n",
      " \n",
      "l\n",
      "a\n",
      "z\n",
      "y\n",
      " \n",
      "d\n",
      "o\n",
      "g\n"
     ]
    }
   ],
   "source": [
    "// for...of can also be used with strings\n",
    "sentence = 'The quick brown fox jumps over the lazy dog'\n",
    "\n",
    "for (let letter of sentence){\n",
    "    console.log(letter)\n",
    "}"
   ]
  },
  {
   "cell_type": "markdown",
   "id": "35814c57",
   "metadata": {},
   "source": [
    "### While Loops\n",
    "<a id=\"while\"></a>\n"
   ]
  },
  {
   "cell_type": "markdown",
   "id": "61319b6a",
   "metadata": {},
   "source": [
    "Of course JS has a while loop and it works just like Python's\n",
    "\n",
    "Syntax\n",
    "\n",
    "```\n",
    "while(condition){\n",
    "    //do stuff\n",
    "}\n",
    "```\n"
   ]
  },
  {
   "cell_type": "code",
   "execution_count": null,
   "id": "0e79ee85",
   "metadata": {},
   "outputs": [
    {
     "name": "stdout",
     "output_type": "stream",
     "text": [
      "0\n",
      "1\n",
      "2\n",
      "3\n"
     ]
    },
    {
     "data": {
      "text/plain": [
       "3"
      ]
     },
     "execution_count": 188,
     "metadata": {},
     "output_type": "execute_result"
    }
   ],
   "source": [
    "let myCounter=0\n",
    "while(myCounter<4){\n",
    "    console.log(myCounter)\n",
    "    myCounter++\n",
    "}"
   ]
  },
  {
   "cell_type": "code",
   "execution_count": null,
   "id": "7bb1acea",
   "metadata": {},
   "outputs": [
    {
     "data": {
      "text/plain": [
       "8"
      ]
     },
     "execution_count": 189,
     "metadata": {},
     "output_type": "execute_result"
    }
   ],
   "source": [
    "Math.floor(Math.random() * 10)"
   ]
  },
  {
   "cell_type": "code",
   "execution_count": null,
   "id": "49542553",
   "metadata": {},
   "outputs": [],
   "source": [
    "let randomNum"
   ]
  },
  {
   "cell_type": "code",
   "execution_count": null,
   "id": "41260f18",
   "metadata": {},
   "outputs": [
    {
     "name": "stdout",
     "output_type": "stream",
     "text": [
      "0\n",
      "8\n",
      "randomNum is finally 5\n"
     ]
    }
   ],
   "source": [
    "randomNum = Math.floor(Math.random() * 10)\n",
    "\n",
    "while (randomNum != 5){\n",
    "    console.log(randomNum);\n",
    "    randomNum = Math.floor(Math.random() * 10)\n",
    "}\n",
    "\n",
    "console.log('randomNum is finally', randomNum)"
   ]
  },
  {
   "cell_type": "markdown",
   "id": "0f74b55d",
   "metadata": {},
   "source": [
    "### Break and Continue\n",
    "<a id=\"bandc\"></a>\n"
   ]
  },
  {
   "cell_type": "markdown",
   "id": "12bd6a92",
   "metadata": {},
   "source": [
    "The keywords break and continue work just the same as they do in Python"
   ]
  },
  {
   "cell_type": "code",
   "execution_count": null,
   "id": "5a6e85d5",
   "metadata": {},
   "outputs": [
    {
     "name": "stdout",
     "output_type": "stream",
     "text": [
      "0\n",
      "1\n"
     ]
    }
   ],
   "source": [
    "let myCounter1=0\n",
    "while(myCounter1<4){\n",
    "    if(myCounter1 == 2){\n",
    "        break\n",
    "    }\n",
    "    console.log(myCounter1)\n",
    "    myCounter1++\n",
    "}"
   ]
  },
  {
   "cell_type": "code",
   "execution_count": null,
   "id": "4da08925",
   "metadata": {},
   "outputs": [
    {
     "name": "stdout",
     "output_type": "stream",
     "text": [
      "0\n",
      "1\n",
      "We found the count of 2\n",
      "3\n"
     ]
    },
    {
     "data": {
      "text/plain": [
       "3"
      ]
     },
     "execution_count": 193,
     "metadata": {},
     "output_type": "execute_result"
    }
   ],
   "source": [
    "let myCounter2=0\n",
    "while(myCounter2<4){\n",
    "    if(myCounter2 == 2){\n",
    "        console.log('We found the count of 2')\n",
    "        myCounter2++\n",
    "        continue\n",
    "    }\n",
    "    console.log(myCounter2)\n",
    "    myCounter2++\n",
    "}"
   ]
  },
  {
   "cell_type": "markdown",
   "id": "73c0d094",
   "metadata": {},
   "source": [
    "## State of an Application\n",
    "<a id=\"state\"></a>\n"
   ]
  },
  {
   "cell_type": "markdown",
   "id": "96498154",
   "metadata": {},
   "source": [
    "An application is said to have a state. The state of an application changes quite often. When we talk about state, we are generally talking about the current values of all of our variables at a specific moment during execution."
   ]
  },
  {
   "cell_type": "markdown",
   "id": "15871f36",
   "metadata": {},
   "source": [
    "Imagine pausing the following for loop after the first interation of the loop"
   ]
  },
  {
   "cell_type": "code",
   "execution_count": null,
   "id": "c3a73b49",
   "metadata": {},
   "outputs": [
    {
     "name": "stdout",
     "output_type": "stream",
     "text": [
      "0\n",
      "1\n",
      "2\n",
      "3\n",
      "4\n"
     ]
    }
   ],
   "source": [
    "let acolor=\"Red\"\n",
    "for(i=0;i<5;i++){\n",
    "    acolor=\"blue\"\n",
    "    console.log(i)\n",
    "}"
   ]
  },
  {
   "cell_type": "markdown",
   "id": "4c185d6e",
   "metadata": {},
   "source": [
    "If we pause the execution of this code during after our first iteration of the foor loop, we can describe the state like:\n",
    "\n",
    "acolor = \"blue\"\n",
    "\n",
    "i = 1\n",
    "\n",
    "This is different than the original state (before we ran any code). The original state could be described like:\n",
    "\n",
    "color=\"Red\"\n",
    "\n",
    "i = 0 \n",
    "\n",
    "While this may seem trivial in this example, imagine a large application with many variables over many files. You can start to see how knowing what state your application is in, at a given moment, can explain why your application is behaving in the way that it is.\n",
    "\n",
    "In this case, this state information about i is lost after the for loops executes. "
   ]
  },
  {
   "cell_type": "markdown",
   "id": "4cc055de",
   "metadata": {},
   "source": [
    "<a id=\"hw\"></a>\n",
    "# Homework"
   ]
  },
  {
   "cell_type": "markdown",
   "id": "1faa37c8",
   "metadata": {},
   "source": [
    "Complete the Following Coding Questions in JavaScript."
   ]
  },
  {
   "cell_type": "markdown",
   "id": "697ad687",
   "metadata": {},
   "source": [
    "#### Question #1"
   ]
  },
  {
   "cell_type": "markdown",
   "id": "92eac8f8",
   "metadata": {},
   "source": [
    "Write a function that takes a string (sentence) and an array of strings (in this example dog_names) and check if one of the list members (dog names) is in the string (sentence). Return an array of the dog names found in the array\n",
    "\n",
    "hint: filter, includes \n",
    "\n",
    "for information on includes see:\n",
    "\n",
    "[https://developer.mozilla.org/en-US/docs/Web/JavaScript/Reference/Global_Objects/Array/includes](https://developer.mozilla.org/en-US/docs/Web/JavaScript/Reference/Global_Objects/Array/includes)"
   ]
  },
  {
   "cell_type": "markdown",
   "id": "296648e3",
   "metadata": {},
   "source": []
  },
  {
   "cell_type": "code",
   "execution_count": 195,
   "id": "d29ace63",
   "metadata": {},
   "outputs": [],
   "source": [
    "var dogNames = [\"Max\",\"Fido\",\"Gizmo\",\"Nala\"]\n",
    "\n",
    "//Test Cases\n",
    "var testString1 = \"Hello, my dog is Max, and they have purple eyes!\"\n",
    "//Expect ['Max']\n",
    "\n",
    "var testString2 = \"My Dog is fast, her name is Tippi\"\n",
    "//Expect []\n",
    "\n",
    "var testString3 = \"Come here Fido and Gizmo come here\"\n",
    "//Expect['Fido','Gizmo']\n",
    "\n",
    "\n",
    "function findDogNames(sentence, dogNames) {\n",
    "    return dogNames.filter(dogName => sentence.includes(dogName));\n",
    "}\n",
    "\n",
    "console.log(findDogNames(testString1, dogNames))\n",
    "\n",
    "console.log(findDogNames(testString2, dogNames))\n",
    "\n",
    "console.log(findDogNames(testString3, dogNames))"
   ]
  },
  {
   "cell_type": "markdown",
   "id": "c7f9c39f",
   "metadata": {},
   "source": [
    "#### Question #2"
   ]
  },
  {
   "cell_type": "markdown",
   "id": "752b7b74",
   "metadata": {},
   "source": [
    "Write a Function using `map` to convert an array of number from inches to feet \n",
    "\n",
    "1 foot = 12 inches "
   ]
  },
  {
   "cell_type": "code",
   "execution_count": 196,
   "id": "c78857bc",
   "metadata": {},
   "outputs": [],
   "source": [
    "var heightsInInches = [66, 64, 60, 52, 72, 80, 51]\n",
    "// Expect\n",
    "// [\n",
    "//   5.5,\n",
    "//   5.333333333333333,\n",
    "//   5,\n",
    "//   4.333333333333333,\n",
    "//   6,\n",
    "//   6.666666666666667,\n",
    "//   4.25\n",
    "// ]\n",
    "\n",
    "\n",
    "function inchesToFeet(heightsInInches) {\n",
    "    return heightsInInches.map(height => height / 12);\n",
    "}\n",
    "var heightsInFeet = inchesToFeet(heightsInInches);\n",
    "\n",
    "console.log(heightsInFeet);"
   ]
  },
  {
   "cell_type": "markdown",
   "id": "e6693c64",
   "metadata": {},
   "source": [
    "#### Question #3"
   ]
  },
  {
   "cell_type": "markdown",
   "id": "1e12e787",
   "metadata": {},
   "source": [
    "Using the Ternary Operator and map create an array that adds `is eating pizza` to every name from the array `tmnt` that ends with `o` and add `is being rude` to any other name."
   ]
  },
  {
   "cell_type": "code",
   "execution_count": 197,
   "id": "dd8640ea",
   "metadata": {},
   "outputs": [],
   "source": [
    "var tmnt = [\"Leonardo\", \"Michelangelo\", \"Donatello\", \"Raphael\"]\n",
    "// expect\n",
    "// [\n",
    "//   'Leonardo is eating pizza',\n",
    "//   'Michelangelo is eating pizza',\n",
    "//   'Donatello is eating pizza',\n",
    "//   'Raphael is being rude'\n",
    "// ]"
   ]
  },
  {
   "cell_type": "markdown",
   "id": "a0499104",
   "metadata": {},
   "source": [
    "#### Question #4"
   ]
  },
  {
   "cell_type": "markdown",
   "id": "5a977175",
   "metadata": {},
   "source": [
    "Write an arrow function to find the max number in a list.  Do not use the Math.max Function.\n",
    "\n",
    "The List will be all positive numbers"
   ]
  },
  {
   "cell_type": "code",
   "execution_count": 198,
   "id": "261ee6be",
   "metadata": {},
   "outputs": [],
   "source": [
    "var findAMax=[123,5436,45784,1234,34,65,234125,645,3452,13216,49]\n",
    "//Expect\n",
    "// 234125"
   ]
  },
  {
   "cell_type": "markdown",
   "id": "541eddf2",
   "metadata": {},
   "source": [
    "#### Question #5"
   ]
  },
  {
   "cell_type": "markdown",
   "id": "298bd3ea",
   "metadata": {},
   "source": [
    "At the <b>end</b> of the <b>third</b> Iteration (the third time the loop has ran) of this for Loop define the state of all the variables used in the cell"
   ]
  },
  {
   "cell_type": "code",
   "execution_count": 199,
   "id": "54781786",
   "metadata": {},
   "outputs": [],
   "source": [
    "var bingo = \"B-I-N-G-O\"\n",
    "var ognib = \"\"\n",
    "for(let i=bingo.length-1; i>=0; i--){\n",
    "    ognib+=(bingo[i])\n",
    "    //define state from this line on the third iteration\n",
    "}"
   ]
  },
  {
   "cell_type": "code",
   "execution_count": 200,
   "id": "e04af35e",
   "metadata": {},
   "outputs": [],
   "source": [
    "//bingo value is\n",
    "\n",
    "//ognib value is\n",
    "\n",
    "// i value is\n"
   ]
  },
  {
   "cell_type": "markdown",
   "id": "1da5965c",
   "metadata": {},
   "source": [
    "#### Question #6"
   ]
  },
  {
   "cell_type": "markdown",
   "id": "f54973c3",
   "metadata": {},
   "source": [
    "Complete 3 Codewars problems using JavaScript, start with ones you have already solved in python.  Paste a link here to the 3 questions you completed"
   ]
  },
  {
   "cell_type": "markdown",
   "id": "b3fb664e",
   "metadata": {},
   "source": [
    "1: https://www.codewars.com/kata/53dc54212259ed3d4f00071c/\n",
    "\n",
    "\n",
    "2: https://www.codewars.com/kata/583710ccaa6717322c000105/\n",
    "\n",
    "\n",
    "3: https://www.codewars.com/kata/563b74ddd19a3ad462000054/\n",
    "\n"
   ]
  }
 ],
 "metadata": {
  "kernelspec": {
   "display_name": "JavaScript (Node.js)",
   "language": "javascript",
   "name": "javascript"
  },
  "language_info": {
   "file_extension": ".js",
   "mimetype": "application/javascript",
   "name": "javascript",
   "version": "18.16.0"
  }
 },
 "nbformat": 4,
 "nbformat_minor": 5
}
